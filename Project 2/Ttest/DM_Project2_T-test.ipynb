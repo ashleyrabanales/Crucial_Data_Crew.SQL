{
 "cells": [
  {
   "cell_type": "code",
   "execution_count": 1,
   "id": "17a08b51",
   "metadata": {},
   "outputs": [],
   "source": [
    "#PartII\n",
    "from statsmodels.stats.weightstats import ttest_ind\n",
    "import numpy as np"
   ]
  },
  {
   "cell_type": "code",
   "execution_count": 2,
   "id": "12a88289",
   "metadata": {},
   "outputs": [],
   "source": [
    "import pandas as pd\n",
    "df = pd.read_csv('T-test.csv') ## import the query q3 from MySQL "
   ]
  },
  {
   "cell_type": "code",
   "execution_count": 3,
   "id": "399bebcc",
   "metadata": {},
   "outputs": [],
   "source": [
    "UID = df[\"UID\"]"
   ]
  },
  {
   "cell_type": "code",
   "execution_count": 4,
   "id": "92224eb7",
   "metadata": {},
   "outputs": [
    {
     "data": {
      "text/html": [
       "<div>\n",
       "<style scoped>\n",
       "    .dataframe tbody tr th:only-of-type {\n",
       "        vertical-align: middle;\n",
       "    }\n",
       "\n",
       "    .dataframe tbody tr th {\n",
       "        vertical-align: top;\n",
       "    }\n",
       "\n",
       "    .dataframe thead th {\n",
       "        text-align: right;\n",
       "    }\n",
       "</style>\n",
       "<table border=\"1\" class=\"dataframe\">\n",
       "  <thead>\n",
       "    <tr style=\"text-align: right;\">\n",
       "      <th></th>\n",
       "      <th>UID</th>\n",
       "    </tr>\n",
       "  </thead>\n",
       "  <tbody>\n",
       "    <tr>\n",
       "      <th>0</th>\n",
       "      <td>37825841</td>\n",
       "    </tr>\n",
       "    <tr>\n",
       "      <th>1</th>\n",
       "      <td>96755595</td>\n",
       "    </tr>\n",
       "    <tr>\n",
       "      <th>2</th>\n",
       "      <td>38998162</td>\n",
       "    </tr>\n",
       "    <tr>\n",
       "      <th>3</th>\n",
       "      <td>794927</td>\n",
       "    </tr>\n",
       "    <tr>\n",
       "      <th>4</th>\n",
       "      <td>79272055</td>\n",
       "    </tr>\n",
       "    <tr>\n",
       "      <th>...</th>\n",
       "      <td>...</td>\n",
       "    </tr>\n",
       "    <tr>\n",
       "      <th>995</th>\n",
       "      <td>40425172</td>\n",
       "    </tr>\n",
       "    <tr>\n",
       "      <th>996</th>\n",
       "      <td>58732744</td>\n",
       "    </tr>\n",
       "    <tr>\n",
       "      <th>997</th>\n",
       "      <td>51323880</td>\n",
       "    </tr>\n",
       "    <tr>\n",
       "      <th>998</th>\n",
       "      <td>55191224</td>\n",
       "    </tr>\n",
       "    <tr>\n",
       "      <th>999</th>\n",
       "      <td>2616922</td>\n",
       "    </tr>\n",
       "  </tbody>\n",
       "</table>\n",
       "<p>1000 rows × 1 columns</p>\n",
       "</div>"
      ],
      "text/plain": [
       "          UID\n",
       "0    37825841\n",
       "1    96755595\n",
       "2    38998162\n",
       "3      794927\n",
       "4    79272055\n",
       "..        ...\n",
       "995  40425172\n",
       "996  58732744\n",
       "997  51323880\n",
       "998  55191224\n",
       "999   2616922\n",
       "\n",
       "[1000 rows x 1 columns]"
      ]
     },
     "execution_count": 4,
     "metadata": {},
     "output_type": "execute_result"
    }
   ],
   "source": [
    "Output = pd.DataFrame(UID.drop_duplicates(), columns = [\"UID\"])\n",
    "Output"
   ]
  },
  {
   "cell_type": "code",
   "execution_count": 5,
   "id": "4b67b25a",
   "metadata": {},
   "outputs": [
    {
     "name": "stderr",
     "output_type": "stream",
     "text": [
      "/Users/yanchenglai/opt/anaconda3/lib/python3.9/site-packages/statsmodels/stats/weightstats.py:135: RuntimeWarning: invalid value encountered in double_scalars\n",
      "  return self.sum / self.sum_weights\n",
      "/Users/yanchenglai/opt/anaconda3/lib/python3.9/site-packages/statsmodels/stats/weightstats.py:997: RuntimeWarning: divide by zero encountered in double_scalars\n",
      "  return np.sqrt(var_pooled * (1.0 / d1.nobs + 1.0 / d2.nobs))\n",
      "/Users/yanchenglai/opt/anaconda3/lib/python3.9/site-packages/statsmodels/stats/weightstats.py:135: RuntimeWarning: invalid value encountered in double_scalars\n",
      "  return self.sum / self.sum_weights\n",
      "/Users/yanchenglai/opt/anaconda3/lib/python3.9/site-packages/statsmodels/stats/weightstats.py:997: RuntimeWarning: divide by zero encountered in double_scalars\n",
      "  return np.sqrt(var_pooled * (1.0 / d1.nobs + 1.0 / d2.nobs))\n"
     ]
    }
   ],
   "source": [
    "for i in range(0,1000): ## Calculate the p-value for each gene and for each diseases. And then store the p-value in a dataframe.\n",
    "    dfA = df[(df.name == 'ALL') & (df.UID == Output.loc[i,'UID'])]\n",
    "    dfB = df[(df.name != 'ALL') & (df.UID == Output.loc[i,'UID'])]\n",
    "    dfC = dfA['exp']\n",
    "    dfD = dfB['exp']\n",
    "    t1 = ttest_ind(dfC, dfD)\n",
    "    Output.loc[i,'p_ALL'] = t1[1]\n",
    "    dfA = df[(df.name == 'AML') & (df.UID == Output.loc[i,'UID'])]\n",
    "    dfB = df[(df.name != 'AML') & (df.UID == Output.loc[i,'UID'])]\n",
    "    dfC = dfA['exp']\n",
    "    dfD = dfB['exp']\n",
    "    t1 = ttest_ind(dfC, dfD)\n",
    "    Output.loc[i,'p_AML'] = t1[1]\n",
    "    dfA = df[(df.name == 'Giloblastome') & (df.UID == Output.loc[i,'UID'])]\n",
    "    dfB = df[(df.name != 'Giloblastome') & (df.UID == Output.loc[i,'UID'])]\n",
    "    dfC = dfA['exp']\n",
    "    dfD = dfB['exp']\n",
    "    t1 = ttest_ind(dfC, dfD)\n",
    "    Output.loc[i,'p_Giloblastome'] = t1[1]\n",
    "    dfA = df[(df.name == 'Colon tumor') & (df.UID == Output.loc[i,'UID'])]\n",
    "    dfB = df[(df.name != 'Colon tumor') & (df.UID == Output.loc[i,'UID'])]\n",
    "    dfC = dfA['exp']\n",
    "    dfD = dfB['exp']\n",
    "    t1 = ttest_ind(dfC, dfD)\n",
    "    Output.loc[i,'p_Colon_tumor'] = t1[1]\n",
    "    dfA = df[(df.name == 'Breast tumor') & (df.UID == Output.loc[i,'UID'])]\n",
    "    dfB = df[(df.name != 'Breast tumor') & (df.UID == Output.loc[i,'UID'])]\n",
    "    dfC = dfA['exp']\n",
    "    dfD = dfB['exp']\n",
    "    t1 = ttest_ind(dfC, dfD)\n",
    "    Output.loc[i,'p_Breast_tumor'] = t1[1]\n",
    "    dfA = df[(df.name == 'Flu') & (df.UID == Output.loc[i,'UID'])]\n",
    "    dfB = df[(df.name != 'Flu') & (df.UID == Output.loc[i,'UID'])]\n",
    "    dfC = dfA['exp']\n",
    "    dfD = dfB['exp']\n",
    "    t1 = ttest_ind(dfC, dfD)\n",
    "    Output.loc[i,'p_Flu'] = t1[1]\n",
    "    "
   ]
  },
  {
   "cell_type": "code",
   "execution_count": 6,
   "id": "f9959467",
   "metadata": {},
   "outputs": [
    {
     "data": {
      "text/html": [
       "<div>\n",
       "<style scoped>\n",
       "    .dataframe tbody tr th:only-of-type {\n",
       "        vertical-align: middle;\n",
       "    }\n",
       "\n",
       "    .dataframe tbody tr th {\n",
       "        vertical-align: top;\n",
       "    }\n",
       "\n",
       "    .dataframe thead th {\n",
       "        text-align: right;\n",
       "    }\n",
       "</style>\n",
       "<table border=\"1\" class=\"dataframe\">\n",
       "  <thead>\n",
       "    <tr style=\"text-align: right;\">\n",
       "      <th></th>\n",
       "      <th>UID</th>\n",
       "      <th>p_ALL</th>\n",
       "      <th>p_AML</th>\n",
       "      <th>p_Giloblastome</th>\n",
       "      <th>p_Colon_tumor</th>\n",
       "      <th>p_Breast_tumor</th>\n",
       "      <th>p_Flu</th>\n",
       "    </tr>\n",
       "  </thead>\n",
       "  <tbody>\n",
       "    <tr>\n",
       "      <th>0</th>\n",
       "      <td>37825841</td>\n",
       "      <td>0.865340</td>\n",
       "      <td>0.649243</td>\n",
       "      <td>0.915577</td>\n",
       "      <td>0.359617</td>\n",
       "      <td>0.932088</td>\n",
       "      <td>NaN</td>\n",
       "    </tr>\n",
       "    <tr>\n",
       "      <th>1</th>\n",
       "      <td>96755595</td>\n",
       "      <td>0.051878</td>\n",
       "      <td>0.241836</td>\n",
       "      <td>0.895462</td>\n",
       "      <td>0.742107</td>\n",
       "      <td>0.656072</td>\n",
       "      <td>NaN</td>\n",
       "    </tr>\n",
       "    <tr>\n",
       "      <th>2</th>\n",
       "      <td>38998162</td>\n",
       "      <td>0.071555</td>\n",
       "      <td>0.036777</td>\n",
       "      <td>0.006072</td>\n",
       "      <td>0.105342</td>\n",
       "      <td>0.203931</td>\n",
       "      <td>NaN</td>\n",
       "    </tr>\n",
       "    <tr>\n",
       "      <th>3</th>\n",
       "      <td>794927</td>\n",
       "      <td>0.477174</td>\n",
       "      <td>0.282674</td>\n",
       "      <td>0.394914</td>\n",
       "      <td>0.570731</td>\n",
       "      <td>0.935534</td>\n",
       "      <td>NaN</td>\n",
       "    </tr>\n",
       "    <tr>\n",
       "      <th>4</th>\n",
       "      <td>79272055</td>\n",
       "      <td>0.718347</td>\n",
       "      <td>0.545690</td>\n",
       "      <td>0.719103</td>\n",
       "      <td>0.523282</td>\n",
       "      <td>0.076546</td>\n",
       "      <td>NaN</td>\n",
       "    </tr>\n",
       "    <tr>\n",
       "      <th>...</th>\n",
       "      <td>...</td>\n",
       "      <td>...</td>\n",
       "      <td>...</td>\n",
       "      <td>...</td>\n",
       "      <td>...</td>\n",
       "      <td>...</td>\n",
       "      <td>...</td>\n",
       "    </tr>\n",
       "    <tr>\n",
       "      <th>995</th>\n",
       "      <td>40425172</td>\n",
       "      <td>0.907633</td>\n",
       "      <td>0.950093</td>\n",
       "      <td>0.444766</td>\n",
       "      <td>0.967475</td>\n",
       "      <td>0.437913</td>\n",
       "      <td>NaN</td>\n",
       "    </tr>\n",
       "    <tr>\n",
       "      <th>996</th>\n",
       "      <td>58732744</td>\n",
       "      <td>0.231602</td>\n",
       "      <td>0.128471</td>\n",
       "      <td>0.952148</td>\n",
       "      <td>0.906454</td>\n",
       "      <td>0.558911</td>\n",
       "      <td>NaN</td>\n",
       "    </tr>\n",
       "    <tr>\n",
       "      <th>997</th>\n",
       "      <td>51323880</td>\n",
       "      <td>0.224294</td>\n",
       "      <td>0.143161</td>\n",
       "      <td>0.242419</td>\n",
       "      <td>0.317646</td>\n",
       "      <td>0.425444</td>\n",
       "      <td>NaN</td>\n",
       "    </tr>\n",
       "    <tr>\n",
       "      <th>998</th>\n",
       "      <td>55191224</td>\n",
       "      <td>0.157824</td>\n",
       "      <td>0.679760</td>\n",
       "      <td>0.130274</td>\n",
       "      <td>0.419913</td>\n",
       "      <td>0.743296</td>\n",
       "      <td>NaN</td>\n",
       "    </tr>\n",
       "    <tr>\n",
       "      <th>999</th>\n",
       "      <td>2616922</td>\n",
       "      <td>0.569355</td>\n",
       "      <td>0.419464</td>\n",
       "      <td>0.621434</td>\n",
       "      <td>0.534479</td>\n",
       "      <td>0.583524</td>\n",
       "      <td>NaN</td>\n",
       "    </tr>\n",
       "  </tbody>\n",
       "</table>\n",
       "<p>1000 rows × 7 columns</p>\n",
       "</div>"
      ],
      "text/plain": [
       "          UID     p_ALL     p_AML  p_Giloblastome  p_Colon_tumor  \\\n",
       "0    37825841  0.865340  0.649243        0.915577       0.359617   \n",
       "1    96755595  0.051878  0.241836        0.895462       0.742107   \n",
       "2    38998162  0.071555  0.036777        0.006072       0.105342   \n",
       "3      794927  0.477174  0.282674        0.394914       0.570731   \n",
       "4    79272055  0.718347  0.545690        0.719103       0.523282   \n",
       "..        ...       ...       ...             ...            ...   \n",
       "995  40425172  0.907633  0.950093        0.444766       0.967475   \n",
       "996  58732744  0.231602  0.128471        0.952148       0.906454   \n",
       "997  51323880  0.224294  0.143161        0.242419       0.317646   \n",
       "998  55191224  0.157824  0.679760        0.130274       0.419913   \n",
       "999   2616922  0.569355  0.419464        0.621434       0.534479   \n",
       "\n",
       "     p_Breast_tumor  p_Flu  \n",
       "0          0.932088    NaN  \n",
       "1          0.656072    NaN  \n",
       "2          0.203931    NaN  \n",
       "3          0.935534    NaN  \n",
       "4          0.076546    NaN  \n",
       "..              ...    ...  \n",
       "995        0.437913    NaN  \n",
       "996        0.558911    NaN  \n",
       "997        0.425444    NaN  \n",
       "998        0.743296    NaN  \n",
       "999        0.583524    NaN  \n",
       "\n",
       "[1000 rows x 7 columns]"
      ]
     },
     "execution_count": 6,
     "metadata": {},
     "output_type": "execute_result"
    }
   ],
   "source": [
    "Output"
   ]
  },
  {
   "cell_type": "code",
   "execution_count": 7,
   "id": "a394b97f",
   "metadata": {},
   "outputs": [
    {
     "data": {
      "text/plain": [
       "13     85557586\n",
       "21     48199244\n",
       "45     13947282\n",
       "63     40567338\n",
       "79     28863379\n",
       "192    41333415\n",
       "214    47276861\n",
       "220    53478188\n",
       "233    94113401\n",
       "234    15295292\n",
       "237    37998407\n",
       "266    60661836\n",
       "271    69156037\n",
       "279    87592194\n",
       "287    58672549\n",
       "392    11333636\n",
       "445    45926811\n",
       "450    75434512\n",
       "494    92443312\n",
       "539    83398521\n",
       "622    16073088\n",
       "624    43866587\n",
       "703    52948490\n",
       "715    88257558\n",
       "718     1433276\n",
       "757    75492172\n",
       "781    24984526\n",
       "787    31997186\n",
       "793    88596261\n",
       "820    97606543\n",
       "854    74496827\n",
       "871    31308500\n",
       "884    41464216\n",
       "925    21633757\n",
       "926     4826120\n",
       "931    65772884\n",
       "970    18493181\n",
       "985    58792011\n",
       "Name: UID, dtype: int64"
      ]
     },
     "execution_count": 7,
     "metadata": {},
     "output_type": "execute_result"
    }
   ],
   "source": [
    "ALL = Output.loc[Output.p_ALL <0.01,'UID'] ## Pick the genes whose p-value is smaller than 0.01, and they are the informative genes for 'ALL'\n",
    "ALL"
   ]
  },
  {
   "cell_type": "code",
   "execution_count": 8,
   "id": "f849629b",
   "metadata": {},
   "outputs": [
    {
     "data": {
      "text/plain": [
       "297    70792370\n",
       "405    72418240\n",
       "442    92333749\n",
       "463    82151723\n",
       "539    83398521\n",
       "582    38422427\n",
       "622    16073088\n",
       "656    56677458\n",
       "722    54926187\n",
       "796    83460852\n",
       "804    26775693\n",
       "854    74496827\n",
       "884    41464216\n",
       "895    42895686\n",
       "898    57734781\n",
       "970    18493181\n",
       "Name: UID, dtype: int64"
      ]
     },
     "execution_count": 8,
     "metadata": {},
     "output_type": "execute_result"
    }
   ],
   "source": [
    "Output.loc[Output.p_AML <0.01,'UID'] ## Pick the genes whose p-value is smaller than 0.01, and they are the informative genes for 'AML'\n"
   ]
  },
  {
   "cell_type": "code",
   "execution_count": 9,
   "id": "aacb0240",
   "metadata": {},
   "outputs": [
    {
     "data": {
      "text/plain": [
       "2      38998162\n",
       "13     85557586\n",
       "17     16824822\n",
       "26     21282903\n",
       "114    95478776\n",
       "198    31054689\n",
       "331    66586335\n",
       "534    41522019\n",
       "656    56677458\n",
       "711    98253924\n",
       "905    19729470\n",
       "917    24266603\n",
       "936    18634953\n",
       "Name: UID, dtype: int64"
      ]
     },
     "execution_count": 9,
     "metadata": {},
     "output_type": "execute_result"
    }
   ],
   "source": [
    "Output.loc[Output.p_Giloblastome <0.01,'UID'] ## Pick the genes whose p-value is smaller than 0.01, and they are the informative genes for 'Giloblastome'\n"
   ]
  },
  {
   "cell_type": "code",
   "execution_count": 10,
   "id": "639ff0ee",
   "metadata": {},
   "outputs": [
    {
     "data": {
      "text/plain": [
       "282    61452024\n",
       "531    84175488\n",
       "944    40326466\n",
       "Name: UID, dtype: int64"
      ]
     },
     "execution_count": 10,
     "metadata": {},
     "output_type": "execute_result"
    }
   ],
   "source": [
    "Output.loc[Output.p_Colon_tumor <0.01,'UID'] ## Pick the genes whose p-value is smaller than 0.01, and they are the informative genes for 'Colon tumor'\n",
    "\n"
   ]
  },
  {
   "cell_type": "code",
   "execution_count": 11,
   "id": "dad99e20",
   "metadata": {},
   "outputs": [
    {
     "data": {
      "text/plain": [
       "172    36532782\n",
       "187    58187596\n",
       "412    79683225\n",
       "433    88633991\n",
       "763    31610401\n",
       "925    21633757\n",
       "Name: UID, dtype: int64"
      ]
     },
     "execution_count": 11,
     "metadata": {},
     "output_type": "execute_result"
    }
   ],
   "source": [
    "Output.loc[Output.p_Breast_tumor <0.01,'UID'] ## Pick the genes whose p-value is smaller than 0.01, and they are the informative genes for 'Breast tumor'\n",
    "\n"
   ]
  },
  {
   "cell_type": "code",
   "execution_count": 12,
   "id": "5ac74b6c",
   "metadata": {},
   "outputs": [
    {
     "data": {
      "text/plain": [
       "Series([], Name: UID, dtype: int64)"
      ]
     },
     "execution_count": 12,
     "metadata": {},
     "output_type": "execute_result"
    }
   ],
   "source": [
    "Output.loc[Output.p_Flu <0.01,'UID'] ## Pick the genes whose p-value is smaller than 0.01, and they are the informative genes for 'Flu'\n",
    "\n",
    "\n"
   ]
  },
  {
   "cell_type": "code",
   "execution_count": 13,
   "id": "19eb3fec",
   "metadata": {},
   "outputs": [
    {
     "data": {
      "text/html": [
       "<div>\n",
       "<style scoped>\n",
       "    .dataframe tbody tr th:only-of-type {\n",
       "        vertical-align: middle;\n",
       "    }\n",
       "\n",
       "    .dataframe tbody tr th {\n",
       "        vertical-align: top;\n",
       "    }\n",
       "\n",
       "    .dataframe thead th {\n",
       "        text-align: right;\n",
       "    }\n",
       "</style>\n",
       "<table border=\"1\" class=\"dataframe\">\n",
       "  <thead>\n",
       "    <tr style=\"text-align: right;\">\n",
       "      <th></th>\n",
       "      <th>s_id</th>\n",
       "      <th>pb_id</th>\n",
       "      <th>e_id</th>\n",
       "      <th>mu_id</th>\n",
       "      <th>exp</th>\n",
       "      <th>UID</th>\n",
       "      <th>p_id</th>\n",
       "      <th>ds_id</th>\n",
       "      <th>name</th>\n",
       "    </tr>\n",
       "  </thead>\n",
       "  <tbody>\n",
       "    <tr>\n",
       "      <th>0</th>\n",
       "      <td>300018</td>\n",
       "      <td>78571824</td>\n",
       "      <td>652</td>\n",
       "      <td>1</td>\n",
       "      <td>105</td>\n",
       "      <td>37825841</td>\n",
       "      <td>79777</td>\n",
       "      <td>3</td>\n",
       "      <td>AML</td>\n",
       "    </tr>\n",
       "    <tr>\n",
       "      <th>1</th>\n",
       "      <td>300018</td>\n",
       "      <td>23034151</td>\n",
       "      <td>652</td>\n",
       "      <td>1</td>\n",
       "      <td>78</td>\n",
       "      <td>96755595</td>\n",
       "      <td>79777</td>\n",
       "      <td>3</td>\n",
       "      <td>AML</td>\n",
       "    </tr>\n",
       "    <tr>\n",
       "      <th>2</th>\n",
       "      <td>300018</td>\n",
       "      <td>55625439</td>\n",
       "      <td>652</td>\n",
       "      <td>1</td>\n",
       "      <td>116</td>\n",
       "      <td>38998162</td>\n",
       "      <td>79777</td>\n",
       "      <td>3</td>\n",
       "      <td>AML</td>\n",
       "    </tr>\n",
       "    <tr>\n",
       "      <th>3</th>\n",
       "      <td>300018</td>\n",
       "      <td>84436488</td>\n",
       "      <td>652</td>\n",
       "      <td>1</td>\n",
       "      <td>97</td>\n",
       "      <td>794927</td>\n",
       "      <td>79777</td>\n",
       "      <td>3</td>\n",
       "      <td>AML</td>\n",
       "    </tr>\n",
       "    <tr>\n",
       "      <th>4</th>\n",
       "      <td>300018</td>\n",
       "      <td>60308461</td>\n",
       "      <td>652</td>\n",
       "      <td>1</td>\n",
       "      <td>50</td>\n",
       "      <td>79272055</td>\n",
       "      <td>79777</td>\n",
       "      <td>3</td>\n",
       "      <td>AML</td>\n",
       "    </tr>\n",
       "    <tr>\n",
       "      <th>...</th>\n",
       "      <td>...</td>\n",
       "      <td>...</td>\n",
       "      <td>...</td>\n",
       "      <td>...</td>\n",
       "      <td>...</td>\n",
       "      <td>...</td>\n",
       "      <td>...</td>\n",
       "      <td>...</td>\n",
       "      <td>...</td>\n",
       "    </tr>\n",
       "    <tr>\n",
       "      <th>52995</th>\n",
       "      <td>867456</td>\n",
       "      <td>21733850</td>\n",
       "      <td>156</td>\n",
       "      <td>1</td>\n",
       "      <td>192</td>\n",
       "      <td>40425172</td>\n",
       "      <td>34267</td>\n",
       "      <td>4</td>\n",
       "      <td>Colon tumor</td>\n",
       "    </tr>\n",
       "    <tr>\n",
       "      <th>52996</th>\n",
       "      <td>867456</td>\n",
       "      <td>8335046</td>\n",
       "      <td>156</td>\n",
       "      <td>1</td>\n",
       "      <td>125</td>\n",
       "      <td>58732744</td>\n",
       "      <td>34267</td>\n",
       "      <td>4</td>\n",
       "      <td>Colon tumor</td>\n",
       "    </tr>\n",
       "    <tr>\n",
       "      <th>52997</th>\n",
       "      <td>867456</td>\n",
       "      <td>34055558</td>\n",
       "      <td>156</td>\n",
       "      <td>1</td>\n",
       "      <td>174</td>\n",
       "      <td>51323880</td>\n",
       "      <td>34267</td>\n",
       "      <td>4</td>\n",
       "      <td>Colon tumor</td>\n",
       "    </tr>\n",
       "    <tr>\n",
       "      <th>52998</th>\n",
       "      <td>867456</td>\n",
       "      <td>57330652</td>\n",
       "      <td>156</td>\n",
       "      <td>1</td>\n",
       "      <td>167</td>\n",
       "      <td>55191224</td>\n",
       "      <td>34267</td>\n",
       "      <td>4</td>\n",
       "      <td>Colon tumor</td>\n",
       "    </tr>\n",
       "    <tr>\n",
       "      <th>52999</th>\n",
       "      <td>867456</td>\n",
       "      <td>54226887</td>\n",
       "      <td>156</td>\n",
       "      <td>1</td>\n",
       "      <td>106</td>\n",
       "      <td>2616922</td>\n",
       "      <td>34267</td>\n",
       "      <td>4</td>\n",
       "      <td>Colon tumor</td>\n",
       "    </tr>\n",
       "  </tbody>\n",
       "</table>\n",
       "<p>53000 rows × 9 columns</p>\n",
       "</div>"
      ],
      "text/plain": [
       "         s_id     pb_id  e_id  mu_id  exp       UID   p_id  ds_id         name\n",
       "0      300018  78571824   652      1  105  37825841  79777      3          AML\n",
       "1      300018  23034151   652      1   78  96755595  79777      3          AML\n",
       "2      300018  55625439   652      1  116  38998162  79777      3          AML\n",
       "3      300018  84436488   652      1   97    794927  79777      3          AML\n",
       "4      300018  60308461   652      1   50  79272055  79777      3          AML\n",
       "...       ...       ...   ...    ...  ...       ...    ...    ...          ...\n",
       "52995  867456  21733850   156      1  192  40425172  34267      4  Colon tumor\n",
       "52996  867456   8335046   156      1  125  58732744  34267      4  Colon tumor\n",
       "52997  867456  34055558   156      1  174  51323880  34267      4  Colon tumor\n",
       "52998  867456  57330652   156      1  167  55191224  34267      4  Colon tumor\n",
       "52999  867456  54226887   156      1  106   2616922  34267      4  Colon tumor\n",
       "\n",
       "[53000 rows x 9 columns]"
      ]
     },
     "execution_count": 13,
     "metadata": {},
     "output_type": "execute_result"
    }
   ],
   "source": [
    "### Bonus Question\n",
    "df"
   ]
  },
  {
   "cell_type": "code",
   "execution_count": 14,
   "id": "97bf59f0",
   "metadata": {},
   "outputs": [],
   "source": [
    "df['Informative'] = 0 ## set a colunm to show if this gene is informaive for ALL or not. The default value is 0."
   ]
  },
  {
   "cell_type": "code",
   "execution_count": 15,
   "id": "d798cf72",
   "metadata": {},
   "outputs": [],
   "source": [
    "# use the loop to give value 1 for all the rows in df, if its UID is included in ALL.\n",
    "for i in range(0,38):\n",
    "    for j in range(0,53000):\n",
    "        if df.iloc[j,5] == ALL.iloc[i]:\n",
    "            df.iloc[j,9] = 1"
   ]
  },
  {
   "cell_type": "code",
   "execution_count": 16,
   "id": "e3db0fad",
   "metadata": {},
   "outputs": [
    {
     "data": {
      "text/html": [
       "<div>\n",
       "<style scoped>\n",
       "    .dataframe tbody tr th:only-of-type {\n",
       "        vertical-align: middle;\n",
       "    }\n",
       "\n",
       "    .dataframe tbody tr th {\n",
       "        vertical-align: top;\n",
       "    }\n",
       "\n",
       "    .dataframe thead th {\n",
       "        text-align: right;\n",
       "    }\n",
       "</style>\n",
       "<table border=\"1\" class=\"dataframe\">\n",
       "  <thead>\n",
       "    <tr style=\"text-align: right;\">\n",
       "      <th></th>\n",
       "      <th>s_id</th>\n",
       "      <th>pb_id</th>\n",
       "      <th>e_id</th>\n",
       "      <th>mu_id</th>\n",
       "      <th>exp</th>\n",
       "      <th>UID</th>\n",
       "      <th>p_id</th>\n",
       "      <th>ds_id</th>\n",
       "      <th>name</th>\n",
       "      <th>Informative</th>\n",
       "    </tr>\n",
       "  </thead>\n",
       "  <tbody>\n",
       "    <tr>\n",
       "      <th>0</th>\n",
       "      <td>300018</td>\n",
       "      <td>78571824</td>\n",
       "      <td>652</td>\n",
       "      <td>1</td>\n",
       "      <td>105</td>\n",
       "      <td>37825841</td>\n",
       "      <td>79777</td>\n",
       "      <td>3</td>\n",
       "      <td>AML</td>\n",
       "      <td>0</td>\n",
       "    </tr>\n",
       "    <tr>\n",
       "      <th>1</th>\n",
       "      <td>300018</td>\n",
       "      <td>23034151</td>\n",
       "      <td>652</td>\n",
       "      <td>1</td>\n",
       "      <td>78</td>\n",
       "      <td>96755595</td>\n",
       "      <td>79777</td>\n",
       "      <td>3</td>\n",
       "      <td>AML</td>\n",
       "      <td>0</td>\n",
       "    </tr>\n",
       "    <tr>\n",
       "      <th>2</th>\n",
       "      <td>300018</td>\n",
       "      <td>55625439</td>\n",
       "      <td>652</td>\n",
       "      <td>1</td>\n",
       "      <td>116</td>\n",
       "      <td>38998162</td>\n",
       "      <td>79777</td>\n",
       "      <td>3</td>\n",
       "      <td>AML</td>\n",
       "      <td>0</td>\n",
       "    </tr>\n",
       "    <tr>\n",
       "      <th>3</th>\n",
       "      <td>300018</td>\n",
       "      <td>84436488</td>\n",
       "      <td>652</td>\n",
       "      <td>1</td>\n",
       "      <td>97</td>\n",
       "      <td>794927</td>\n",
       "      <td>79777</td>\n",
       "      <td>3</td>\n",
       "      <td>AML</td>\n",
       "      <td>0</td>\n",
       "    </tr>\n",
       "    <tr>\n",
       "      <th>4</th>\n",
       "      <td>300018</td>\n",
       "      <td>60308461</td>\n",
       "      <td>652</td>\n",
       "      <td>1</td>\n",
       "      <td>50</td>\n",
       "      <td>79272055</td>\n",
       "      <td>79777</td>\n",
       "      <td>3</td>\n",
       "      <td>AML</td>\n",
       "      <td>0</td>\n",
       "    </tr>\n",
       "    <tr>\n",
       "      <th>...</th>\n",
       "      <td>...</td>\n",
       "      <td>...</td>\n",
       "      <td>...</td>\n",
       "      <td>...</td>\n",
       "      <td>...</td>\n",
       "      <td>...</td>\n",
       "      <td>...</td>\n",
       "      <td>...</td>\n",
       "      <td>...</td>\n",
       "      <td>...</td>\n",
       "    </tr>\n",
       "    <tr>\n",
       "      <th>52995</th>\n",
       "      <td>867456</td>\n",
       "      <td>21733850</td>\n",
       "      <td>156</td>\n",
       "      <td>1</td>\n",
       "      <td>192</td>\n",
       "      <td>40425172</td>\n",
       "      <td>34267</td>\n",
       "      <td>4</td>\n",
       "      <td>Colon tumor</td>\n",
       "      <td>0</td>\n",
       "    </tr>\n",
       "    <tr>\n",
       "      <th>52996</th>\n",
       "      <td>867456</td>\n",
       "      <td>8335046</td>\n",
       "      <td>156</td>\n",
       "      <td>1</td>\n",
       "      <td>125</td>\n",
       "      <td>58732744</td>\n",
       "      <td>34267</td>\n",
       "      <td>4</td>\n",
       "      <td>Colon tumor</td>\n",
       "      <td>0</td>\n",
       "    </tr>\n",
       "    <tr>\n",
       "      <th>52997</th>\n",
       "      <td>867456</td>\n",
       "      <td>34055558</td>\n",
       "      <td>156</td>\n",
       "      <td>1</td>\n",
       "      <td>174</td>\n",
       "      <td>51323880</td>\n",
       "      <td>34267</td>\n",
       "      <td>4</td>\n",
       "      <td>Colon tumor</td>\n",
       "      <td>0</td>\n",
       "    </tr>\n",
       "    <tr>\n",
       "      <th>52998</th>\n",
       "      <td>867456</td>\n",
       "      <td>57330652</td>\n",
       "      <td>156</td>\n",
       "      <td>1</td>\n",
       "      <td>167</td>\n",
       "      <td>55191224</td>\n",
       "      <td>34267</td>\n",
       "      <td>4</td>\n",
       "      <td>Colon tumor</td>\n",
       "      <td>0</td>\n",
       "    </tr>\n",
       "    <tr>\n",
       "      <th>52999</th>\n",
       "      <td>867456</td>\n",
       "      <td>54226887</td>\n",
       "      <td>156</td>\n",
       "      <td>1</td>\n",
       "      <td>106</td>\n",
       "      <td>2616922</td>\n",
       "      <td>34267</td>\n",
       "      <td>4</td>\n",
       "      <td>Colon tumor</td>\n",
       "      <td>0</td>\n",
       "    </tr>\n",
       "  </tbody>\n",
       "</table>\n",
       "<p>53000 rows × 10 columns</p>\n",
       "</div>"
      ],
      "text/plain": [
       "         s_id     pb_id  e_id  mu_id  exp       UID   p_id  ds_id  \\\n",
       "0      300018  78571824   652      1  105  37825841  79777      3   \n",
       "1      300018  23034151   652      1   78  96755595  79777      3   \n",
       "2      300018  55625439   652      1  116  38998162  79777      3   \n",
       "3      300018  84436488   652      1   97    794927  79777      3   \n",
       "4      300018  60308461   652      1   50  79272055  79777      3   \n",
       "...       ...       ...   ...    ...  ...       ...    ...    ...   \n",
       "52995  867456  21733850   156      1  192  40425172  34267      4   \n",
       "52996  867456   8335046   156      1  125  58732744  34267      4   \n",
       "52997  867456  34055558   156      1  174  51323880  34267      4   \n",
       "52998  867456  57330652   156      1  167  55191224  34267      4   \n",
       "52999  867456  54226887   156      1  106   2616922  34267      4   \n",
       "\n",
       "              name  Informative  \n",
       "0              AML            0  \n",
       "1              AML            0  \n",
       "2              AML            0  \n",
       "3              AML            0  \n",
       "4              AML            0  \n",
       "...            ...          ...  \n",
       "52995  Colon tumor            0  \n",
       "52996  Colon tumor            0  \n",
       "52997  Colon tumor            0  \n",
       "52998  Colon tumor            0  \n",
       "52999  Colon tumor            0  \n",
       "\n",
       "[53000 rows x 10 columns]"
      ]
     },
     "execution_count": 16,
     "metadata": {},
     "output_type": "execute_result"
    }
   ],
   "source": [
    "df"
   ]
  },
  {
   "cell_type": "code",
   "execution_count": 17,
   "id": "a2032ce2",
   "metadata": {},
   "outputs": [],
   "source": [
    "dfA_infor = df[(df.name =='ALL')&(df.Informative == 1)] ## define Group A. In group A, the disease are ALL for all the patients, and we wanna focus only on informative genes.\n",
    "dfB_infor = df[(df.name !='ALL')&(df.Informative == 1)] ## define Group B. In group B, the disease are not ALL for all the patients, and we wanna focus only on informative genes."
   ]
  },
  {
   "cell_type": "code",
   "execution_count": 18,
   "id": "2d378007",
   "metadata": {},
   "outputs": [
    {
     "data": {
      "text/html": [
       "<div>\n",
       "<style scoped>\n",
       "    .dataframe tbody tr th:only-of-type {\n",
       "        vertical-align: middle;\n",
       "    }\n",
       "\n",
       "    .dataframe tbody tr th {\n",
       "        vertical-align: top;\n",
       "    }\n",
       "\n",
       "    .dataframe thead th {\n",
       "        text-align: right;\n",
       "    }\n",
       "</style>\n",
       "<table border=\"1\" class=\"dataframe\">\n",
       "  <thead>\n",
       "    <tr style=\"text-align: right;\">\n",
       "      <th></th>\n",
       "      <th>s_id</th>\n",
       "      <th>pb_id</th>\n",
       "      <th>e_id</th>\n",
       "      <th>mu_id</th>\n",
       "      <th>exp</th>\n",
       "      <th>UID</th>\n",
       "      <th>p_id</th>\n",
       "      <th>ds_id</th>\n",
       "      <th>name</th>\n",
       "      <th>Informative</th>\n",
       "    </tr>\n",
       "  </thead>\n",
       "  <tbody>\n",
       "    <tr>\n",
       "      <th>13</th>\n",
       "      <td>300018</td>\n",
       "      <td>4544274</td>\n",
       "      <td>652</td>\n",
       "      <td>1</td>\n",
       "      <td>73</td>\n",
       "      <td>85557586</td>\n",
       "      <td>79777</td>\n",
       "      <td>3</td>\n",
       "      <td>AML</td>\n",
       "      <td>1</td>\n",
       "    </tr>\n",
       "    <tr>\n",
       "      <th>21</th>\n",
       "      <td>300018</td>\n",
       "      <td>69557942</td>\n",
       "      <td>652</td>\n",
       "      <td>1</td>\n",
       "      <td>20</td>\n",
       "      <td>48199244</td>\n",
       "      <td>79777</td>\n",
       "      <td>3</td>\n",
       "      <td>AML</td>\n",
       "      <td>1</td>\n",
       "    </tr>\n",
       "    <tr>\n",
       "      <th>45</th>\n",
       "      <td>300018</td>\n",
       "      <td>50566281</td>\n",
       "      <td>652</td>\n",
       "      <td>1</td>\n",
       "      <td>33</td>\n",
       "      <td>13947282</td>\n",
       "      <td>79777</td>\n",
       "      <td>3</td>\n",
       "      <td>AML</td>\n",
       "      <td>1</td>\n",
       "    </tr>\n",
       "    <tr>\n",
       "      <th>63</th>\n",
       "      <td>300018</td>\n",
       "      <td>2192426</td>\n",
       "      <td>652</td>\n",
       "      <td>1</td>\n",
       "      <td>108</td>\n",
       "      <td>40567338</td>\n",
       "      <td>79777</td>\n",
       "      <td>3</td>\n",
       "      <td>AML</td>\n",
       "      <td>1</td>\n",
       "    </tr>\n",
       "    <tr>\n",
       "      <th>79</th>\n",
       "      <td>300018</td>\n",
       "      <td>70808286</td>\n",
       "      <td>652</td>\n",
       "      <td>1</td>\n",
       "      <td>63</td>\n",
       "      <td>28863379</td>\n",
       "      <td>79777</td>\n",
       "      <td>3</td>\n",
       "      <td>AML</td>\n",
       "      <td>1</td>\n",
       "    </tr>\n",
       "    <tr>\n",
       "      <th>...</th>\n",
       "      <td>...</td>\n",
       "      <td>...</td>\n",
       "      <td>...</td>\n",
       "      <td>...</td>\n",
       "      <td>...</td>\n",
       "      <td>...</td>\n",
       "      <td>...</td>\n",
       "      <td>...</td>\n",
       "      <td>...</td>\n",
       "      <td>...</td>\n",
       "    </tr>\n",
       "    <tr>\n",
       "      <th>52925</th>\n",
       "      <td>867456</td>\n",
       "      <td>20661297</td>\n",
       "      <td>156</td>\n",
       "      <td>1</td>\n",
       "      <td>187</td>\n",
       "      <td>21633757</td>\n",
       "      <td>34267</td>\n",
       "      <td>4</td>\n",
       "      <td>Colon tumor</td>\n",
       "      <td>1</td>\n",
       "    </tr>\n",
       "    <tr>\n",
       "      <th>52926</th>\n",
       "      <td>867456</td>\n",
       "      <td>46582313</td>\n",
       "      <td>156</td>\n",
       "      <td>1</td>\n",
       "      <td>155</td>\n",
       "      <td>4826120</td>\n",
       "      <td>34267</td>\n",
       "      <td>4</td>\n",
       "      <td>Colon tumor</td>\n",
       "      <td>1</td>\n",
       "    </tr>\n",
       "    <tr>\n",
       "      <th>52931</th>\n",
       "      <td>867456</td>\n",
       "      <td>74281614</td>\n",
       "      <td>156</td>\n",
       "      <td>1</td>\n",
       "      <td>66</td>\n",
       "      <td>65772884</td>\n",
       "      <td>34267</td>\n",
       "      <td>4</td>\n",
       "      <td>Colon tumor</td>\n",
       "      <td>1</td>\n",
       "    </tr>\n",
       "    <tr>\n",
       "      <th>52970</th>\n",
       "      <td>867456</td>\n",
       "      <td>24010376</td>\n",
       "      <td>156</td>\n",
       "      <td>1</td>\n",
       "      <td>31</td>\n",
       "      <td>18493181</td>\n",
       "      <td>34267</td>\n",
       "      <td>4</td>\n",
       "      <td>Colon tumor</td>\n",
       "      <td>1</td>\n",
       "    </tr>\n",
       "    <tr>\n",
       "      <th>52985</th>\n",
       "      <td>867456</td>\n",
       "      <td>93187265</td>\n",
       "      <td>156</td>\n",
       "      <td>1</td>\n",
       "      <td>181</td>\n",
       "      <td>58792011</td>\n",
       "      <td>34267</td>\n",
       "      <td>4</td>\n",
       "      <td>Colon tumor</td>\n",
       "      <td>1</td>\n",
       "    </tr>\n",
       "  </tbody>\n",
       "</table>\n",
       "<p>1520 rows × 10 columns</p>\n",
       "</div>"
      ],
      "text/plain": [
       "         s_id     pb_id  e_id  mu_id  exp       UID   p_id  ds_id  \\\n",
       "13     300018   4544274   652      1   73  85557586  79777      3   \n",
       "21     300018  69557942   652      1   20  48199244  79777      3   \n",
       "45     300018  50566281   652      1   33  13947282  79777      3   \n",
       "63     300018   2192426   652      1  108  40567338  79777      3   \n",
       "79     300018  70808286   652      1   63  28863379  79777      3   \n",
       "...       ...       ...   ...    ...  ...       ...    ...    ...   \n",
       "52925  867456  20661297   156      1  187  21633757  34267      4   \n",
       "52926  867456  46582313   156      1  155   4826120  34267      4   \n",
       "52931  867456  74281614   156      1   66  65772884  34267      4   \n",
       "52970  867456  24010376   156      1   31  18493181  34267      4   \n",
       "52985  867456  93187265   156      1  181  58792011  34267      4   \n",
       "\n",
       "              name  Informative  \n",
       "13             AML            1  \n",
       "21             AML            1  \n",
       "45             AML            1  \n",
       "63             AML            1  \n",
       "79             AML            1  \n",
       "...            ...          ...  \n",
       "52925  Colon tumor            1  \n",
       "52926  Colon tumor            1  \n",
       "52931  Colon tumor            1  \n",
       "52970  Colon tumor            1  \n",
       "52985  Colon tumor            1  \n",
       "\n",
       "[1520 rows x 10 columns]"
      ]
     },
     "execution_count": 18,
     "metadata": {},
     "output_type": "execute_result"
    }
   ],
   "source": [
    "dfA_infor\n",
    "dfB_infor"
   ]
  },
  {
   "cell_type": "code",
   "execution_count": 19,
   "id": "0ed867e9",
   "metadata": {},
   "outputs": [],
   "source": [
    "ts = pd.read_csv('test_samples.csv') ## import the test samples"
   ]
  },
  {
   "cell_type": "code",
   "execution_count": 20,
   "id": "bb63d8f2",
   "metadata": {},
   "outputs": [
    {
     "data": {
      "text/html": [
       "<div>\n",
       "<style scoped>\n",
       "    .dataframe tbody tr th:only-of-type {\n",
       "        vertical-align: middle;\n",
       "    }\n",
       "\n",
       "    .dataframe tbody tr th {\n",
       "        vertical-align: top;\n",
       "    }\n",
       "\n",
       "    .dataframe thead th {\n",
       "        text-align: right;\n",
       "    }\n",
       "</style>\n",
       "<table border=\"1\" class=\"dataframe\">\n",
       "  <thead>\n",
       "    <tr style=\"text-align: right;\">\n",
       "      <th></th>\n",
       "      <th>UID</th>\n",
       "      <th>test1</th>\n",
       "      <th>test2</th>\n",
       "      <th>test3</th>\n",
       "      <th>test4</th>\n",
       "      <th>test5</th>\n",
       "    </tr>\n",
       "  </thead>\n",
       "  <tbody>\n",
       "    <tr>\n",
       "      <th>0</th>\n",
       "      <td>2616922</td>\n",
       "      <td>184</td>\n",
       "      <td>185</td>\n",
       "      <td>51</td>\n",
       "      <td>148</td>\n",
       "      <td>155</td>\n",
       "    </tr>\n",
       "    <tr>\n",
       "      <th>1</th>\n",
       "      <td>55191224</td>\n",
       "      <td>19</td>\n",
       "      <td>30</td>\n",
       "      <td>165</td>\n",
       "      <td>151</td>\n",
       "      <td>62</td>\n",
       "    </tr>\n",
       "    <tr>\n",
       "      <th>2</th>\n",
       "      <td>51323880</td>\n",
       "      <td>77</td>\n",
       "      <td>159</td>\n",
       "      <td>40</td>\n",
       "      <td>104</td>\n",
       "      <td>59</td>\n",
       "    </tr>\n",
       "    <tr>\n",
       "      <th>3</th>\n",
       "      <td>58732744</td>\n",
       "      <td>95</td>\n",
       "      <td>158</td>\n",
       "      <td>58</td>\n",
       "      <td>149</td>\n",
       "      <td>195</td>\n",
       "    </tr>\n",
       "    <tr>\n",
       "      <th>4</th>\n",
       "      <td>40425172</td>\n",
       "      <td>52</td>\n",
       "      <td>116</td>\n",
       "      <td>125</td>\n",
       "      <td>125</td>\n",
       "      <td>108</td>\n",
       "    </tr>\n",
       "    <tr>\n",
       "      <th>...</th>\n",
       "      <td>...</td>\n",
       "      <td>...</td>\n",
       "      <td>...</td>\n",
       "      <td>...</td>\n",
       "      <td>...</td>\n",
       "      <td>...</td>\n",
       "    </tr>\n",
       "    <tr>\n",
       "      <th>995</th>\n",
       "      <td>79272055</td>\n",
       "      <td>162</td>\n",
       "      <td>8</td>\n",
       "      <td>14</td>\n",
       "      <td>103</td>\n",
       "      <td>2</td>\n",
       "    </tr>\n",
       "    <tr>\n",
       "      <th>996</th>\n",
       "      <td>794927</td>\n",
       "      <td>187</td>\n",
       "      <td>142</td>\n",
       "      <td>134</td>\n",
       "      <td>38</td>\n",
       "      <td>24</td>\n",
       "    </tr>\n",
       "    <tr>\n",
       "      <th>997</th>\n",
       "      <td>38998162</td>\n",
       "      <td>107</td>\n",
       "      <td>48</td>\n",
       "      <td>16</td>\n",
       "      <td>171</td>\n",
       "      <td>76</td>\n",
       "    </tr>\n",
       "    <tr>\n",
       "      <th>998</th>\n",
       "      <td>96755595</td>\n",
       "      <td>24</td>\n",
       "      <td>46</td>\n",
       "      <td>109</td>\n",
       "      <td>182</td>\n",
       "      <td>64</td>\n",
       "    </tr>\n",
       "    <tr>\n",
       "      <th>999</th>\n",
       "      <td>37825841</td>\n",
       "      <td>35</td>\n",
       "      <td>136</td>\n",
       "      <td>47</td>\n",
       "      <td>93</td>\n",
       "      <td>138</td>\n",
       "    </tr>\n",
       "  </tbody>\n",
       "</table>\n",
       "<p>1000 rows × 6 columns</p>\n",
       "</div>"
      ],
      "text/plain": [
       "          UID  test1  test2  test3  test4  test5\n",
       "0     2616922    184    185     51    148    155\n",
       "1    55191224     19     30    165    151     62\n",
       "2    51323880     77    159     40    104     59\n",
       "3    58732744     95    158     58    149    195\n",
       "4    40425172     52    116    125    125    108\n",
       "..        ...    ...    ...    ...    ...    ...\n",
       "995  79272055    162      8     14    103      2\n",
       "996    794927    187    142    134     38     24\n",
       "997  38998162    107     48     16    171     76\n",
       "998  96755595     24     46    109    182     64\n",
       "999  37825841     35    136     47     93    138\n",
       "\n",
       "[1000 rows x 6 columns]"
      ]
     },
     "execution_count": 20,
     "metadata": {},
     "output_type": "execute_result"
    }
   ],
   "source": [
    "ts"
   ]
  },
  {
   "cell_type": "code",
   "execution_count": 21,
   "id": "f265653e",
   "metadata": {},
   "outputs": [],
   "source": [
    "ts['Informative'] = 0 ## set a colunm to show if this gene is informaive for ALL or not. The default value is 0."
   ]
  },
  {
   "cell_type": "code",
   "execution_count": 22,
   "id": "03d400aa",
   "metadata": {},
   "outputs": [],
   "source": [
    "# use the loop to give value 1 for all the rows in df, if its UID is included in ALL.\n",
    "for i in range(0,38):\n",
    "    for j in range(0,1000):\n",
    "        if ts.iloc[j,0] == ALL.iloc[i]:\n",
    "            ts.iloc[j,6] = 1"
   ]
  },
  {
   "cell_type": "code",
   "execution_count": 23,
   "id": "5090cff5",
   "metadata": {},
   "outputs": [],
   "source": [
    "Ap_id = dfA_infor['p_id'].drop_duplicates() ## get all the patient id in group A\n",
    "Bp_id = dfB_infor['p_id'].drop_duplicates() ## get all the patient id in group B"
   ]
  },
  {
   "cell_type": "code",
   "execution_count": 24,
   "id": "8c936714",
   "metadata": {},
   "outputs": [
    {
     "data": {
      "text/plain": [
       "765"
      ]
     },
     "execution_count": 24,
     "metadata": {},
     "output_type": "execute_result"
    }
   ],
   "source": [
    "Ap_id.iloc[-1]"
   ]
  },
  {
   "cell_type": "code",
   "execution_count": 25,
   "id": "24c1167f",
   "metadata": {},
   "outputs": [
    {
     "data": {
      "text/plain": [
       "34267"
      ]
     },
     "execution_count": 25,
     "metadata": {},
     "output_type": "execute_result"
    }
   ],
   "source": [
    "Bp_id.iloc[-1]"
   ]
  },
  {
   "cell_type": "code",
   "execution_count": 26,
   "id": "db6c676d",
   "metadata": {},
   "outputs": [],
   "source": [
    "## Test1\n",
    "rA1 = [] ## Prepare a list to store the correlation values\n",
    "rB1 = []"
   ]
  },
  {
   "cell_type": "code",
   "execution_count": 27,
   "id": "07d65840",
   "metadata": {},
   "outputs": [],
   "source": [
    "##Calculate the correlation between test's exp and each patient(in group A)'s exp\n",
    "for i in range(0,13):\n",
    "    a=pd.merge(dfA_infor.loc[dfA_infor.p_id == Ap_id.iloc[i]],ts.loc[ts.Informative == 1,['UID','test1']], how = 'left', left_on = ['UID'], right_on = ['UID'])\n",
    "    rA1.append(np.corrcoef(a.exp,a.test1)[0,1])\n",
    "    "
   ]
  },
  {
   "cell_type": "code",
   "execution_count": 28,
   "id": "652637dc",
   "metadata": {},
   "outputs": [],
   "source": [
    "##Calculate the correlation between test's exp and each patient(in group B)'s exp\n",
    "for i in range(0,40):\n",
    "    b=pd.merge(dfB_infor.loc[dfB_infor.p_id == Bp_id.iloc[i]],ts.loc[ts.Informative == 1,['UID','test1']], how = 'left', left_on = ['UID'], right_on = ['UID'])\n",
    "    rB1.append(np.corrcoef(b.exp,b.test1)[0,1])"
   ]
  },
  {
   "cell_type": "code",
   "execution_count": 29,
   "id": "a94cd691",
   "metadata": {},
   "outputs": [
    {
     "data": {
      "text/plain": [
       "[0.7399504281406035,\n",
       " 0.8543444560449772,\n",
       " 0.799925934165169,\n",
       " 0.8060622904244565,\n",
       " 0.8599105864877904,\n",
       " 0.7650925013667066,\n",
       " 0.8188350000476113,\n",
       " 0.7632604816394648,\n",
       " 0.8155210144301899,\n",
       " 0.8362402033547754,\n",
       " 0.8028348873995631,\n",
       " 0.7912667293386927,\n",
       " 0.8087932463330985]"
      ]
     },
     "execution_count": 29,
     "metadata": {},
     "output_type": "execute_result"
    }
   ],
   "source": [
    "rA1"
   ]
  },
  {
   "cell_type": "code",
   "execution_count": 30,
   "id": "9d49933e",
   "metadata": {},
   "outputs": [
    {
     "data": {
      "text/plain": [
       "[-0.10566003566048565,\n",
       " -0.06219573054554184,\n",
       " 0.07703291650938973,\n",
       " 0.1579312248020552,\n",
       " 0.00526647745012952,\n",
       " -0.04230174099507495,\n",
       " 0.04422124821558026,\n",
       " -0.14255658814067687,\n",
       " -0.0459574476579691,\n",
       " 0.06893544557362402,\n",
       " -0.08082496374781287,\n",
       " -0.07519475841240564,\n",
       " -0.24957891508014599,\n",
       " -0.10791104121492226,\n",
       " 0.10172906860115313,\n",
       " 0.234371355684041,\n",
       " -0.05422908033359374,\n",
       " 0.1964696366464271,\n",
       " -0.07326030804488734,\n",
       " 0.041925558526062424,\n",
       " 0.21907155507828502,\n",
       " 0.2861397926149316,\n",
       " -0.1408021034730285,\n",
       " 0.30097836013568213,\n",
       " 0.053691335252760555,\n",
       " 0.01893090558969303,\n",
       " 0.30902907633504173,\n",
       " -0.021777907398938305,\n",
       " 0.015859841278508324,\n",
       " 0.1301035729819536,\n",
       " 0.15562883534300817,\n",
       " -0.06840313793915132,\n",
       " -0.031511429717815315,\n",
       " 0.1208579049933919,\n",
       " 0.13361243902200715,\n",
       " 0.16616275680953743,\n",
       " -0.37754960243990965,\n",
       " 0.11868954891016462,\n",
       " -0.11225347170245531,\n",
       " 0.09445977090906328]"
      ]
     },
     "execution_count": 30,
     "metadata": {},
     "output_type": "execute_result"
    }
   ],
   "source": [
    "rB1"
   ]
  },
  {
   "cell_type": "code",
   "execution_count": 31,
   "id": "9e0a97cf",
   "metadata": {},
   "outputs": [],
   "source": [
    "t1 = ttest_ind(rA1, rB1) ## do the two-sample ttest for rA1 and rB1"
   ]
  },
  {
   "cell_type": "code",
   "execution_count": 32,
   "id": "204c0d2c",
   "metadata": {},
   "outputs": [
    {
     "data": {
      "text/plain": [
       "(18.475170049327343, 3.019397577627644e-24, 51.0)"
      ]
     },
     "execution_count": 32,
     "metadata": {},
     "output_type": "execute_result"
    }
   ],
   "source": [
    "t1 # the p-value is less than 0.01, so patient 1 is classified as ALL"
   ]
  },
  {
   "cell_type": "code",
   "execution_count": 33,
   "id": "e5099600",
   "metadata": {},
   "outputs": [],
   "source": [
    "## Test2\n",
    "rA2 = [] ## Prepare a list to store the correlation values\n",
    "rB2 = []"
   ]
  },
  {
   "cell_type": "code",
   "execution_count": 34,
   "id": "0fc6b41d",
   "metadata": {},
   "outputs": [],
   "source": [
    "##Calculate the correlation between test's exp and each patient(in group A)'s exp\n",
    "for i in range(0,13):\n",
    "    a=pd.merge(dfA_infor.loc[dfA_infor.p_id == Ap_id.iloc[i]],ts.loc[ts.Informative == 1,['UID','test2']],how = 'left', left_on = ['UID'], right_on = ['UID'])\n",
    "    rA2.append(np.corrcoef(a.exp,a.test2)[0,1])\n",
    "    "
   ]
  },
  {
   "cell_type": "code",
   "execution_count": 35,
   "id": "8e450d77",
   "metadata": {},
   "outputs": [],
   "source": [
    "##Calculate the correlation between test's exp and each patient(in group B)'s exp\n",
    "for i in range(0,40):\n",
    "    b=pd.merge(dfB_infor.loc[dfB_infor.p_id == Bp_id.iloc[i]],ts.loc[ts.Informative == 1,['UID','test2']], how = 'left', left_on = ['UID'], right_on = ['UID'])\n",
    "    rB2.append(np.corrcoef(b.exp,b.test2)[0,1])\n",
    "    "
   ]
  },
  {
   "cell_type": "code",
   "execution_count": 36,
   "id": "ec93c5dc",
   "metadata": {},
   "outputs": [
    {
     "data": {
      "text/plain": [
       "[0.24013715477262235,\n",
       " 0.1624338088522618,\n",
       " 0.15546995588363102,\n",
       " 0.21150667919496993,\n",
       " 0.20824274359743922,\n",
       " 0.1617132382554074,\n",
       " 0.14415341157246767,\n",
       " 0.26113296108656286,\n",
       " 0.1273346074189275,\n",
       " 0.11476333210383319,\n",
       " 0.1736291213165275,\n",
       " 0.16604639795440793,\n",
       " 0.24039991739456193]"
      ]
     },
     "execution_count": 36,
     "metadata": {},
     "output_type": "execute_result"
    }
   ],
   "source": [
    "rA2"
   ]
  },
  {
   "cell_type": "code",
   "execution_count": 37,
   "id": "505ec8e0",
   "metadata": {},
   "outputs": [
    {
     "data": {
      "text/plain": [
       "[0.07898822176534705,\n",
       " -0.09010579730167449,\n",
       " 0.01213554492720976,\n",
       " -0.032758019989702555,\n",
       " 0.006524735451979801,\n",
       " -0.10095892258287592,\n",
       " -0.0711221179657125,\n",
       " -0.04272094450974311,\n",
       " -0.10448130648761812,\n",
       " -0.16037438081481428,\n",
       " 0.09479882430690306,\n",
       " -0.3607487760964048,\n",
       " -0.21296076387818655,\n",
       " -0.25039070663660995,\n",
       " 0.016467509331571848,\n",
       " 0.13039962183163678,\n",
       " -0.14451051778305257,\n",
       " -0.21857907041643052,\n",
       " -0.08384380485553969,\n",
       " -0.033485559439449836,\n",
       " -0.11685582360506437,\n",
       " -0.03517431747139776,\n",
       " -0.25466824800518645,\n",
       " -0.11267374059201636,\n",
       " -0.07174323425242557,\n",
       " -0.1372248248192186,\n",
       " 0.0613084710287906,\n",
       " -0.0063181047549423445,\n",
       " -0.15829534830525677,\n",
       " 0.03745436024416644,\n",
       " -0.14128074387088338,\n",
       " 0.03350662415650919,\n",
       " 0.24964621464028972,\n",
       " 0.0957409065565368,\n",
       " 0.053363823843710564,\n",
       " -0.15554555597418113,\n",
       " 0.0014783447823400993,\n",
       " -0.27748482033511745,\n",
       " 0.2124731336441646,\n",
       " -0.14754233836420913]"
      ]
     },
     "execution_count": 37,
     "metadata": {},
     "output_type": "execute_result"
    }
   ],
   "source": [
    "rB2"
   ]
  },
  {
   "cell_type": "code",
   "execution_count": 38,
   "id": "f427f29a",
   "metadata": {},
   "outputs": [],
   "source": [
    "t2 = ttest_ind(rA2, rB2)"
   ]
  },
  {
   "cell_type": "code",
   "execution_count": 39,
   "id": "24771971",
   "metadata": {},
   "outputs": [
    {
     "data": {
      "text/plain": [
       "(6.5082474543724125, 3.25474846690545e-08, 51.0)"
      ]
     },
     "execution_count": 39,
     "metadata": {},
     "output_type": "execute_result"
    }
   ],
   "source": [
    "t2# the p-value is less than 0.01, so patient 2 is classified as ALL"
   ]
  },
  {
   "cell_type": "code",
   "execution_count": 40,
   "id": "ce7b3418",
   "metadata": {},
   "outputs": [],
   "source": [
    "## Test3\n",
    "rA3 = [] ## Prepare a list to store the correlation values\n",
    "rB3 = []"
   ]
  },
  {
   "cell_type": "code",
   "execution_count": 41,
   "id": "a9e7edfc",
   "metadata": {},
   "outputs": [],
   "source": [
    "##Calculate the correlation between test's exp and each patient(in group A)'s exp\n",
    "for i in range(0,13):\n",
    "    a=pd.merge(dfA_infor.loc[dfA_infor.p_id == Ap_id.iloc[i]],ts.loc[ts.Informative == 1,['UID','test3']], how = 'left', left_on = ['UID'], right_on = ['UID'])\n",
    "    rA3.append(np.corrcoef(a.exp,a.test3)[0,1])\n",
    "    "
   ]
  },
  {
   "cell_type": "code",
   "execution_count": 42,
   "id": "64035448",
   "metadata": {},
   "outputs": [],
   "source": [
    "##Calculate the correlation between test's exp and each patient(in group B)'s exp\n",
    "for i in range(0,40):\n",
    "    b=pd.merge(dfB_infor.loc[dfB_infor.p_id == Bp_id.iloc[i]],ts.loc[ts.Informative == 1,['UID','test3']], how = 'left', left_on = ['UID'], right_on = ['UID'])\n",
    "    rB3.append(np.corrcoef(b.exp,b.test3)[0,1])\n",
    "    "
   ]
  },
  {
   "cell_type": "code",
   "execution_count": 43,
   "id": "a5cede8b",
   "metadata": {},
   "outputs": [
    {
     "data": {
      "text/plain": [
       "[-0.04849729483826831,\n",
       " -0.06763522046076192,\n",
       " 0.11853905558403899,\n",
       " -0.09023607599317614,\n",
       " 0.05451718468076086,\n",
       " -0.04974383778424151,\n",
       " -0.16187800796867535,\n",
       " -0.035284591570467316,\n",
       " 0.06184563629143604,\n",
       " -0.016327282280226334,\n",
       " -0.16599821455994881,\n",
       " 0.008067350815593035,\n",
       " -0.011924268321005816]"
      ]
     },
     "execution_count": 43,
     "metadata": {},
     "output_type": "execute_result"
    }
   ],
   "source": [
    "rA3"
   ]
  },
  {
   "cell_type": "code",
   "execution_count": 44,
   "id": "57bd480a",
   "metadata": {},
   "outputs": [
    {
     "data": {
      "text/plain": [
       "[0.16743195518160553,\n",
       " 0.098411492973449,\n",
       " 0.1214833220502675,\n",
       " -0.0016785728603224315,\n",
       " 0.08050028174962481,\n",
       " -0.22060144134731707,\n",
       " -0.24750806457107685,\n",
       " 0.08403180247603328,\n",
       " 0.09724239563398585,\n",
       " -0.06372300329478643,\n",
       " 0.17085177413731586,\n",
       " -0.2118055205178311,\n",
       " -0.14273445794252335,\n",
       " -0.13806659698795012,\n",
       " -0.21031936979550211,\n",
       " -0.008507267222114066,\n",
       " 0.09679364054730008,\n",
       " -0.08372782646456797,\n",
       " 0.03971379825767609,\n",
       " 0.04952001099651458,\n",
       " -0.16074790467812045,\n",
       " 0.04838220581027339,\n",
       " -0.10350204301913542,\n",
       " -0.03598386926220792,\n",
       " -0.19348412050766886,\n",
       " 0.053641992422049416,\n",
       " -0.1661426416957376,\n",
       " 0.06661196865845496,\n",
       " 0.07663147969942274,\n",
       " 0.018157514503202892,\n",
       " 0.040118235565634194,\n",
       " -0.1573024648184504,\n",
       " -0.18784866188259858,\n",
       " 0.19178419808221153,\n",
       " 0.011808356994951906,\n",
       " -0.16997299270684396,\n",
       " 0.21922775757106047,\n",
       " 0.014549823527616274,\n",
       " -0.13793658641637,\n",
       " 0.09980052143896528]"
      ]
     },
     "execution_count": 44,
     "metadata": {},
     "output_type": "execute_result"
    }
   ],
   "source": [
    "rB3"
   ]
  },
  {
   "cell_type": "code",
   "execution_count": 45,
   "id": "79b3543e",
   "metadata": {},
   "outputs": [],
   "source": [
    "t3 = ttest_ind(rA3, rB3)"
   ]
  },
  {
   "cell_type": "code",
   "execution_count": 46,
   "id": "a6bbbed8",
   "metadata": {},
   "outputs": [
    {
     "data": {
      "text/plain": [
       "(-0.289239688465967, 0.7735705184719874, 51.0)"
      ]
     },
     "execution_count": 46,
     "metadata": {},
     "output_type": "execute_result"
    }
   ],
   "source": [
    "t3# the p-value is larger than 0.01, so patient 3 is not classified as ALL"
   ]
  },
  {
   "cell_type": "code",
   "execution_count": 47,
   "id": "05cdddbf",
   "metadata": {},
   "outputs": [],
   "source": [
    "## Test 4\n",
    "rA4 = [] ## Prepare a list to store the correlation values\n",
    "rB4 = []"
   ]
  },
  {
   "cell_type": "code",
   "execution_count": 48,
   "id": "8ba1e93b",
   "metadata": {},
   "outputs": [],
   "source": [
    "##Calculate the correlation between test's exp and each patient(in group A)'s exp\n",
    "for i in range(0,13):\n",
    "    a=pd.merge(dfA_infor.loc[dfA_infor.p_id == Ap_id.iloc[i]],ts.loc[ts.Informative == 1,['UID','test4']], how = 'left', left_on = ['UID'], right_on = ['UID'])\n",
    "    rA4.append(np.corrcoef(a.exp,a.test4)[0,1])\n",
    "    "
   ]
  },
  {
   "cell_type": "code",
   "execution_count": 49,
   "id": "a5fe65bb",
   "metadata": {},
   "outputs": [],
   "source": [
    "##Calculate the correlation between test's exp and each patient(in group B)'s exp\n",
    "for i in range(0,40):\n",
    "    b=pd.merge(dfB_infor.loc[dfB_infor.p_id == Bp_id.iloc[i]],ts.loc[ts.Informative == 1,['UID','test4']], how = 'left', left_on = ['UID'], right_on = ['UID'])\n",
    "    rB4.append(np.corrcoef(b.exp,b.test4)[0,1])\n",
    "    "
   ]
  },
  {
   "cell_type": "code",
   "execution_count": 50,
   "id": "bac82c70",
   "metadata": {},
   "outputs": [
    {
     "data": {
      "text/plain": [
       "[0.7213662402847246,\n",
       " 0.8283467659743998,\n",
       " 0.7895763226259382,\n",
       " 0.8097460483397696,\n",
       " 0.8641239289548527,\n",
       " 0.7088269379178247,\n",
       " 0.8221236504766439,\n",
       " 0.7512167189032195,\n",
       " 0.8637512071323489,\n",
       " 0.7918513096454546,\n",
       " 0.8102129205741404,\n",
       " 0.8255837928819982,\n",
       " 0.8058409141089489]"
      ]
     },
     "execution_count": 50,
     "metadata": {},
     "output_type": "execute_result"
    }
   ],
   "source": [
    "rA4"
   ]
  },
  {
   "cell_type": "code",
   "execution_count": 51,
   "id": "ebebca7b",
   "metadata": {},
   "outputs": [
    {
     "data": {
      "text/plain": [
       "[-0.04653172931948861,\n",
       " -0.033876095150576206,\n",
       " -0.031735309786832706,\n",
       " 0.15079873260525783,\n",
       " 0.06261319310123103,\n",
       " -0.1209974692844168,\n",
       " -0.022740422387472682,\n",
       " -0.10238378510670355,\n",
       " 0.03315853348622304,\n",
       " 0.07123848485179042,\n",
       " -0.1206894239911686,\n",
       " -0.10027436942693667,\n",
       " -0.2888769193515406,\n",
       " -0.2119169522277756,\n",
       " 0.12531637641354493,\n",
       " 0.1987614120457642,\n",
       " 0.04121832466758659,\n",
       " 0.016484361608417188,\n",
       " -0.06620143610159336,\n",
       " 0.02029185084824734,\n",
       " 0.1250059838269502,\n",
       " 0.2777487749255008,\n",
       " -0.0818362002655467,\n",
       " 0.2329290963414325,\n",
       " 0.07634002977133744,\n",
       " -0.05953301572166588,\n",
       " 0.3210341394398019,\n",
       " -0.017080406039412566,\n",
       " 0.015402373288306652,\n",
       " 0.1639141427413615,\n",
       " 0.2062102236219595,\n",
       " -0.09250437624994441,\n",
       " -0.026082963228017248,\n",
       " 0.14626319637603974,\n",
       " 0.10252942627718484,\n",
       " 0.06336747146100186,\n",
       " -0.35895909585028446,\n",
       " 0.015007370019839431,\n",
       " -0.08247014801374603,\n",
       " 0.14981622332608294]"
      ]
     },
     "execution_count": 51,
     "metadata": {},
     "output_type": "execute_result"
    }
   ],
   "source": [
    "rB4"
   ]
  },
  {
   "cell_type": "code",
   "execution_count": 52,
   "id": "b8aac634",
   "metadata": {},
   "outputs": [],
   "source": [
    "t4 = ttest_ind(rA4, rB4)"
   ]
  },
  {
   "cell_type": "code",
   "execution_count": 53,
   "id": "d1ac4a1a",
   "metadata": {},
   "outputs": [
    {
     "data": {
      "text/plain": [
       "(19.160580316731856, 5.926505775204915e-25, 51.0)"
      ]
     },
     "execution_count": 53,
     "metadata": {},
     "output_type": "execute_result"
    }
   ],
   "source": [
    "t4# the p-value is less than 0.01, so patient 4 is classified as ALL"
   ]
  },
  {
   "cell_type": "code",
   "execution_count": 54,
   "id": "301d1a45",
   "metadata": {},
   "outputs": [],
   "source": [
    "## Test 5\n",
    "rA5 = [] ## Prepare a list to store the correlation values\n",
    "rB5 = []"
   ]
  },
  {
   "cell_type": "code",
   "execution_count": 55,
   "id": "ce623693",
   "metadata": {},
   "outputs": [],
   "source": [
    "##Calculate the correlation between test's exp and each patient(in group A)'s exp\n",
    "for i in range(0,13):\n",
    "    a=pd.merge(dfA_infor.loc[dfA_infor.p_id == Ap_id.iloc[i]],ts.loc[ts.Informative == 1,['UID','test5']], how = 'left', left_on = ['UID'], right_on = ['UID'])\n",
    "    rA5.append(np.corrcoef(a.exp,a.test5)[0,1])\n",
    "    "
   ]
  },
  {
   "cell_type": "code",
   "execution_count": 56,
   "id": "a3079c4c",
   "metadata": {},
   "outputs": [],
   "source": [
    "##Calculate the correlation between test's exp and each patient(in group B)'s exp\n",
    "for i in range(0,40):\n",
    "    b=pd.merge(dfB_infor.loc[dfB_infor.p_id == Bp_id.iloc[i]],ts.loc[ts.Informative == 1,['UID','test5']], how = 'left', left_on = ['UID'], right_on = ['UID'])\n",
    "    rB5.append(np.corrcoef(b.exp,b.test5)[0,1])\n",
    "    "
   ]
  },
  {
   "cell_type": "code",
   "execution_count": 57,
   "id": "777807b7",
   "metadata": {},
   "outputs": [
    {
     "data": {
      "text/plain": [
       "[-0.16265885250496087,\n",
       " -0.22269324040573277,\n",
       " -0.14875031614634418,\n",
       " -0.12178852527684611,\n",
       " -0.12553010154056307,\n",
       " -0.18254323427380195,\n",
       " -0.1151240590455396,\n",
       " -0.1599717486132152,\n",
       " -0.11254378217964041,\n",
       " -0.11909672841099758,\n",
       " -0.13955197108580003,\n",
       " -0.1336297057274838,\n",
       " -0.09493302652913505]"
      ]
     },
     "execution_count": 57,
     "metadata": {},
     "output_type": "execute_result"
    }
   ],
   "source": [
    "rA5"
   ]
  },
  {
   "cell_type": "code",
   "execution_count": 58,
   "id": "b2c48ce5",
   "metadata": {},
   "outputs": [
    {
     "data": {
      "text/plain": [
       "[0.3136890136011124,\n",
       " 0.13931934878450367,\n",
       " -0.1449862470659602,\n",
       " 0.11403668149927249,\n",
       " 0.19281105490114098,\n",
       " 0.03560781583047027,\n",
       " 0.2687372070915671,\n",
       " 0.05895941523266615,\n",
       " -0.06196058320916892,\n",
       " 0.0016445211624072512,\n",
       " 0.18574974056358684,\n",
       " 0.10887296771189911,\n",
       " 0.06262568484699946,\n",
       " 0.09298429860433541,\n",
       " -0.003300198129139595,\n",
       " 0.13363036935105554,\n",
       " -0.1658158647335772,\n",
       " -0.13523020022434876,\n",
       " 0.08811098854329227,\n",
       " 0.2094538969721188,\n",
       " -0.3195426774663784,\n",
       " -0.27117938304129835,\n",
       " -0.11142183265307297,\n",
       " -0.23748374807694322,\n",
       " -0.10989741707476264,\n",
       " -0.19503508700317168,\n",
       " 0.026625895644939668,\n",
       " -0.20484881221830112,\n",
       " 0.17243231678863788,\n",
       " -0.025528263566605345,\n",
       " 0.22859486270312457,\n",
       " 0.14612555825015955,\n",
       " 0.20256320869239974,\n",
       " -0.021281131910683752,\n",
       " 0.22599495789002527,\n",
       " -0.20264536840842878,\n",
       " 0.12606154882592452,\n",
       " -0.40016403785610577,\n",
       " 0.09484688081809972,\n",
       " -0.2043527372588176]"
      ]
     },
     "execution_count": 58,
     "metadata": {},
     "output_type": "execute_result"
    }
   ],
   "source": [
    "rB5"
   ]
  },
  {
   "cell_type": "code",
   "execution_count": 59,
   "id": "f02bb8d1",
   "metadata": {},
   "outputs": [],
   "source": [
    "t5 = ttest_ind(rA5, rB5)"
   ]
  },
  {
   "cell_type": "code",
   "execution_count": 60,
   "id": "01c34bb1",
   "metadata": {},
   "outputs": [
    {
     "data": {
      "text/plain": [
       "(-3.030954964549197, 0.0038238124509267705, 51.0)"
      ]
     },
     "execution_count": 60,
     "metadata": {},
     "output_type": "execute_result"
    }
   ],
   "source": [
    "t5# the p-value is less than 0.01, so patient 5 is classified as ALL"
   ]
  }
 ],
 "metadata": {
  "kernelspec": {
   "display_name": "Python 3 (ipykernel)",
   "language": "python",
   "name": "python3"
  },
  "language_info": {
   "codemirror_mode": {
    "name": "ipython",
    "version": 3
   },
   "file_extension": ".py",
   "mimetype": "text/x-python",
   "name": "python",
   "nbconvert_exporter": "python",
   "pygments_lexer": "ipython3",
   "version": "3.9.12"
  }
 },
 "nbformat": 4,
 "nbformat_minor": 5
}
