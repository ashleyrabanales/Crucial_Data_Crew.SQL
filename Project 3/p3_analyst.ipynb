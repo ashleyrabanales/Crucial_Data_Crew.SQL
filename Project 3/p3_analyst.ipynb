{
 "cells": [
  {
   "cell_type": "code",
   "execution_count": 3,
   "metadata": {},
   "outputs": [],
   "source": [
    "import selenium\n",
    "from selenium import webdriver\n",
    "from selenium.webdriver.chrome.service import Service\n",
    "from selenium.common.exceptions import NoSuchElementException\n",
    "from selenium.webdriver.common.by import By\n",
    "import time\n",
    "import random\n",
    "import pandas as pd\n"
   ]
  },
  {
   "cell_type": "code",
   "execution_count": 32,
   "metadata": {},
   "outputs": [],
   "source": [
    "import pandas as pd\n",
    "import selenium\n",
    "from selenium import webdriver\n",
    "from selenium.webdriver.common.by import By\n",
    "from selenium.webdriver.chrome.service import Service\n",
    "from selenium.webdriver.chrome.options import Options\n",
    "import selenium\n",
    "from selenium.webdriver.support.ui import WebDriverWait"
   ]
  },
  {
   "cell_type": "code",
   "execution_count": 7,
   "metadata": {},
   "outputs": [],
   "source": [
    "Predictions = pd.read_csv(r'C:\\Users\\brown\\OneDrive\\Documents\\Projects\\IFI8410\\Personal\\predictions.csv')\n",
    "ID = pd.read_csv(r'C:\\Users\\brown\\OneDrive\\Documents\\Projects\\IFI8410\\Personal\\analyst_URL_keys.csv')\n",
    "ID1 = Predictions['analyst'].drop_duplicates()"
   ]
  },
  {
   "cell_type": "code",
   "execution_count": 8,
   "metadata": {},
   "outputs": [],
   "source": [
    "ID1 = Predictions['analyst'].drop_duplicates()"
   ]
  },
  {
   "cell_type": "code",
   "execution_count": 11,
   "metadata": {},
   "outputs": [
    {
     "data": {
      "text/plain": [
       "[]"
      ]
     },
     "execution_count": 11,
     "metadata": {},
     "output_type": "execute_result"
    }
   ],
   "source": [
    "IDD = ID1.loc[0:500]\n",
    "\n",
    "Analyst = []\n",
    "missing_analyst = []"
   ]
  },
  {
   "cell_type": "code",
   "execution_count": null,
   "metadata": {},
   "outputs": [],
   "source": [
    "path = r'C:\\Users\\brown\\OneDrive\\Documents\\chromedriver.exe' #f path \n",
    "driver_service = Service(executable_path=path)\n",
    "driver = webdriver.Chrome(service=driver_service)\n",
    "url = 'https://estimize.com/'\n",
    "counter = 0\n",
    "\n",
    "for ID in ID1[6915:]:\n",
    "    counter = counter + 1\n",
    "    time.sleep(random.uniform(2,3))\n",
    "    driver.get(f\"{url}/users/{ID}\")\n",
    "    time.sleep(random.uniform(2,3))\n",
    "    # row to append to final list/dataframe\n",
    "    try:\n",
    "        login = driver.find_element('xpath','//*[@id=\"top-navigation\"]/div[1]/ul/li[8]/a')\n",
    "        login.click()\n",
    "        time.sleep(random.uniform(1,2))\n",
    "        # list username and password as variables\n",
    "        username = 'cbrown180@student.gsu.edu'\n",
    "        password = '123456'\n",
    "        # find email field in HTML and send username to field -- sleep 2 seconds\n",
    "        email_field = driver.find_element('name','user[login]')\n",
    "        email_field.send_keys(username)\n",
    "        time.sleep(random.uniform(1,2))\n",
    "        # find the password field and input password and submit\n",
    "        password_field = driver.find_element('name','user[password]')\n",
    "        password_field.send_keys(password)\n",
    "        password_field.submit()\n",
    "        time.sleep(random.uniform(1,2))\n",
    "    except NoSuchElementException:\n",
    "        pass\n",
    "    try:\n",
    "        row = {}\n",
    "        # create variable to assign ticker to the row \n",
    "        row['AnalystID'] = ID\n",
    "        # grab analyst id... not just the name grab the data user to use in url for final scraper\n",
    "        name = driver.find_element('xpath',f'//*[@id=\"users_show\"]/div[4]/div[1]/div[1]/div[1]/div/h1/a').text\n",
    "        row['Name'] = name\n",
    "        time.sleep(random.uniform(1,5))\n",
    "        role = driver.find_element('xpath', f'//*[@id=\"users_show\"]/div[4]/div[1]/div[1]/div[1]/div/ul').text\n",
    "        row['Role'] = role\n",
    "        time.sleep(random.uniform(1,3))\n",
    "        join_date = driver.find_element('xpath', f'//*[@id=\"users_show\"]/div[4]/div[1]/div[1]/div[1]/div/div[2]/div[2]').text\n",
    "        row['Join Date'] = join_date\n",
    "        time.sleep(random.uniform(1,3))\n",
    "        cs = driver.find_element('xpath', f'//*[@id=\"confidence-wrap\"]/div/div[2]').text\n",
    "        row['Analyst Confidence Score'] = cs\n",
    "        Err = driver.find_element('xpath',f'//*[@id=\"profile-tab-wrap\"]/div[1]/div[1]/div[3]').text\n",
    "        row['Error rate'] = Err\n",
    "        Accu = driver.find_element('xpath',f'//*[@id=\"profile-tab-wrap\"]/div[1]/div[2]/div[2]').text\n",
    "        row['Accuracy Percentile'] = Accu\n",
    "        time.sleep(random.uniform(1,5))\n",
    "        Points = driver.find_element('xpath',f'//*[@id=\"profile-tab-wrap\"]/div[2]/div[1]/div[3]').text\n",
    "        row['Points'] = Points\n",
    "        time.sleep(1)\n",
    "        PointsE = driver.find_element('xpath',f'//*[@id=\"profile-tab-wrap\"]/div[2]/div[2]/div[2]').text\n",
    "        row['Points/Estimate'] = PointsE\n",
    "        Stocks = driver.find_element('xpath',f'//*[@id=\"profile-tab-wrap\"]/div[3]/div[1]/div[3]').text\n",
    "        row['Stocks'] = Stocks\n",
    "        Pending = driver.find_element('xpath',f'//*[@id=\"profile-tab-wrap\"]/div[3]/div[2]/div[3]').text\n",
    "        row['Pending'] = Pending\n",
    "        time.sleep(random.uniform(1,3))\n",
    "        if row not in Analyst:\n",
    "                    Analyst.append(row)\n",
    "                    print(counter)\n",
    "    except NoSuchElementException:\n",
    "        pass\n",
    "\n",
    "    \n",
    "\n",
    "    "
   ]
  },
  {
   "cell_type": "code",
   "execution_count": 93,
   "metadata": {},
   "outputs": [
    {
     "name": "stdout",
     "output_type": "stream",
     "text": [
      "1883\n",
      "8764\n"
     ]
    }
   ],
   "source": [
    "print(counter)\n",
    "print(len(Analyst))"
   ]
  },
  {
   "cell_type": "code",
   "execution_count": null,
   "metadata": {},
   "outputs": [],
   "source": [
    "df = pd.DataFrame(Analyst)\n",
    "df.to_csv(r'C:\\Users\\brown\\OneDrive\\Documents\\Projects\\IFI8410\\Personal\\analyst_8764.csv')\n"
   ]
  }
 ],
 "metadata": {
  "kernelspec": {
   "display_name": "Python 3.10.6 64-bit",
   "language": "python",
   "name": "python3"
  },
  "language_info": {
   "codemirror_mode": {
    "name": "ipython",
    "version": 3
   },
   "file_extension": ".py",
   "mimetype": "text/x-python",
   "name": "python",
   "nbconvert_exporter": "python",
   "pygments_lexer": "ipython3",
   "version": "3.10.6"
  },
  "orig_nbformat": 4,
  "vscode": {
   "interpreter": {
    "hash": "67c098b56015f98957ba5868aed1ddc6292d97c219ecaa8bd640e07c14b57cae"
   }
  }
 },
 "nbformat": 4,
 "nbformat_minor": 2
}
