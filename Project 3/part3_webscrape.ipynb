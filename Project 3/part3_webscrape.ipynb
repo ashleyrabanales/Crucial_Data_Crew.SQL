{
 "cells": [
  {
   "cell_type": "code",
   "execution_count": 26,
   "metadata": {},
   "outputs": [],
   "source": [
    "import selenium\n",
    "from selenium import webdriver\n",
    "from selenium.webdriver.chrome.service import Service\n",
    "from selenium.common.exceptions import NoSuchElementException\n",
    "from selenium.webdriver.common.by import By\n",
    "import time\n",
    "import random\n",
    "import pandas as pd\n",
    "\n",
    "predictions = []\n",
    "qy = ['fq1-2020','fq2-2020','fq3-2020','fq4-2020','fq1-2021','fq2-2021','fq3-2021','fq4-2021',\n",
    "'fq1-2022','fq2-2022','fq3-2022','fq4-2022']"
   ]
  },
  {
   "cell_type": "markdown",
   "metadata": {},
   "source": [
    " <!-- ====================================================================================== \n",
    "#3 This code pulls analust eps  estimate data for all tickers without q3 and q4 of 2022\n",
    "and stores each quarterly results as a dictionary and appends eps_list as a row\n",
    " ======================================================================================= --!>"
   ]
  },
  {
   "cell_type": "code",
   "execution_count": 40,
   "metadata": {},
   "outputs": [],
   "source": [
    "ticker_noQ3Q4_g = ['LULU','BIDU']\n",
    "ticker_noQ3Q4 = ['BIDU']\n",
    "qy = ['fq1-2020','fq2-2020','fq3-2020','fq4-2020','fq1-2021','fq2-2021','fq3-2021','fq4-2021',\n",
    "'fq1-2022','fq2-2022']\n",
    "\n",
    "\n",
    "path = r'/Users/ashleyrabanales/chromedriver'\n",
    "driver_service = Service(executable_path=path)\n",
    "driver = webdriver.Chrome(service=driver_service)\n",
    "url = 'https://estimize.com/'\n",
    "# analyst_ests = []\n",
    "\n",
    "for ticks in ticker_noQ3Q4:\n",
    "    for q in qy:  \n",
    "        time.sleep(1)\n",
    "        driver.get(f\"{url}{ticks}/{q}?metric_name=eps&chart=table\")\n",
    "        time.sleep(1)\n",
    "        # # check if login needed\n",
    "        # try:\n",
    "        #     login = driver.find_element('xpath','//*[@id=\"top-navigation\"]/div/a[2]')\n",
    "        #     login.click()\n",
    "        #     time.sleep(1)\n",
    "        #     # list username and password as variables\n",
    "        #     username = 'cbrown180@student.gsu.edu'\n",
    "        #     password = '123456'\n",
    "        #     # find email field in HTML and send username to field -- sleep 2 seconds\n",
    "        #     email_field = driver.find_element('name','user[login]')\n",
    "        #     email_field.send_keys(username)\n",
    "        #     time.sleep(1)\n",
    "        #     # find the password field and input password and submit\n",
    "        #     password_field = driver.find_element('name','user[password]')\n",
    "        #     password_field.send_keys(password)\n",
    "        #     password_field.submit()\n",
    "        #     time.sleep(1)\n",
    "        # except NoSuchElementException:\n",
    "        #     pass\n",
    "        \n",
    "        # find show all element and click it\n",
    "        show_all = driver.find_element('xpath','//*[@id=\"estimates\"]/div/a')\n",
    "        show_all.click()\n",
    "        time.sleep(1)\n",
    "\n",
    "        # find count of estimate to iterate through all estimates\n",
    "        c = int(driver.find_element('xpath','//*[@id=\"estimates\"]/p[1]/strong/span').text)\n",
    "\n",
    "        # grab analyst id and estimation append to a row with ticker, q_y, analyst, and estimate \n",
    "        for i in range(1,c+1):\n",
    "           \n",
    "            \n",
    "            # row to append to final list/dataframe\n",
    "            row = {}\n",
    "            # create variable to assign ticker to the row \n",
    "            company = ticks\n",
    "            row['ticker'] = company\n",
    "            # create variable to assign the quarter and year\n",
    "            qyear = f'{q}' \n",
    "            row['quarter'] = qyear\n",
    "            # grab analyst id... not just the name grab the data user to use in url for final scraper\n",
    "            users = driver.find_element('xpath',f'//*[@id=\"estimates\"]/table/tbody[2]/tr[{i}]/td[3]/a[2]/strong').get_attribute('data-user')                                 \n",
    "            row['analyst'] = users\n",
    "            #  grab the actual estimation\n",
    "            analyst_value = driver.find_element('xpath',f'//*[@id=\"estimates\"]/table/tbody[2]/tr[{i}]/td[6]').text                               \n",
    "            row['eps_estimate'] = analyst_value\n",
    "            #  grab the confidence score of the estimate \n",
    "            estimate_conf = driver.find_element('xpath', f'//*[@id=\"estimates\"]/table/tbody[2]/tr[{i}]/td[7]').text                                      \n",
    "            row['analyst_confidence'] = estimate_conf\n",
    "            \n",
    "            if row not in predictions:\n",
    "                predictions.append(row)\n",
    "    \n",
    "   \n",
    "   \n",
    "   \n",
    "\n"
   ]
  },
  {
   "cell_type": "code",
   "execution_count": 50,
   "metadata": {},
   "outputs": [
    {
     "name": "stdout",
     "output_type": "stream",
     "text": [
      "     ticker   quarter          analyst eps_estimate analyst_confidence\n",
      "0      LULU  fq1-2020  analyst_9404487         0.22                4.4\n",
      "1      LULU  fq1-2020  analyst_6216740         0.23                4.6\n",
      "2      LULU  fq1-2020   analyst_530056         0.23                4.9\n",
      "3      LULU  fq1-2020  analyst_8278771         0.23                5.1\n",
      "4      LULU  fq1-2020  analyst_9872866         0.23                5.3\n",
      "...     ...       ...              ...          ...                ...\n",
      "2028    CVX  fq2-2020  analyst_3614778        -0.20        calculating\n",
      "2029    CVX  fq2-2020        mgspooner        -0.16                3.4\n",
      "2030    CVX  fq2-2020     jefferies_57         0.24                3.7\n",
      "2031    CVX  fq2-2020   quanttrader007         0.82                4.6\n",
      "2032    CVX  fq2-2020  analyst_2027791         1.92                2.6\n",
      "\n",
      "[2033 rows x 5 columns]\n"
     ]
    }
   ],
   "source": [
    "\n",
    "df = pd.DataFrame(predictions)\n",
    "print(df)\n",
    "# result = df[df['quarter'] == 'fq2-2022']\n",
    "# result2 = result[result['ticker']=='BIDU']\n",
    "# print(result2)\n",
    "\n"
   ]
  },
  {
   "cell_type": "markdown",
   "metadata": {},
   "source": [
    " <!-- ====================================================================================== \n",
    "#2 This code pulls analyst eps estimate data for all tickers with all quarters avaiable\n",
    "and stores each quarterly results as a dictionary and appends eps_list as a row\n",
    " ======================================================================================= --!>"
   ]
  },
  {
   "cell_type": "code",
   "execution_count": 64,
   "metadata": {},
   "outputs": [
    {
     "ename": "NoSuchWindowException",
     "evalue": "Message: no such window: target window already closed\nfrom unknown error: web view not found\n  (Session info: chrome=107.0.5304.88)\nStacktrace:\nBacktrace:\n\tOrdinal0 [0x00DBACD3+2075859]\n\tOrdinal0 [0x00D4EE61+1633889]\n\tOrdinal0 [0x00C4B7BD+571325]\n\tOrdinal0 [0x00C32E1A+470554]\n\tOrdinal0 [0x00C9AA0B+895499]\n\tOrdinal0 [0x00CAAC96+961686]\n\tOrdinal0 [0x00C97136+880950]\n\tOrdinal0 [0x00C6FEFD+720637]\n\tOrdinal0 [0x00C70F3F+724799]\n\tGetHandleVerifier [0x0106EED2+2769538]\n\tGetHandleVerifier [0x01060D95+2711877]\n\tGetHandleVerifier [0x00E4A03A+521194]\n\tGetHandleVerifier [0x00E48DA0+516432]\n\tOrdinal0 [0x00D5682C+1665068]\n\tOrdinal0 [0x00D5B128+1683752]\n\tOrdinal0 [0x00D5B215+1683989]\n\tOrdinal0 [0x00D66484+1729668]\n\tBaseThreadInitThunk [0x757DFA29+25]\n\tRtlGetAppContainerNamedObjectPath [0x77047BBE+286]\n\tRtlGetAppContainerNamedObjectPath [0x77047B8E+238]\n",
     "output_type": "error",
     "traceback": [
      "\u001b[1;31m---------------------------------------------------------------------------\u001b[0m",
      "\u001b[1;31mNoSuchWindowException\u001b[0m                     Traceback (most recent call last)",
      "Cell \u001b[1;32mIn [64], line 35\u001b[0m\n\u001b[0;32m     33\u001b[0m time\u001b[39m.\u001b[39msleep(\u001b[39m1\u001b[39m)\n\u001b[0;32m     34\u001b[0m \u001b[39m# find the password field and input password and submit\u001b[39;00m\n\u001b[1;32m---> 35\u001b[0m password_field \u001b[39m=\u001b[39m driver\u001b[39m.\u001b[39;49mfind_element(\u001b[39m'\u001b[39;49m\u001b[39mname\u001b[39;49m\u001b[39m'\u001b[39;49m,\u001b[39m'\u001b[39;49m\u001b[39muser[password]\u001b[39;49m\u001b[39m'\u001b[39;49m)\n\u001b[0;32m     36\u001b[0m password_field\u001b[39m.\u001b[39msend_keys(password)\n\u001b[0;32m     37\u001b[0m password_field\u001b[39m.\u001b[39msubmit()\n",
      "File \u001b[1;32mc:\\Users\\brown\\AppData\\Local\\Programs\\Python\\Python310\\lib\\site-packages\\selenium\\webdriver\\remote\\webdriver.py:855\u001b[0m, in \u001b[0;36mWebDriver.find_element\u001b[1;34m(self, by, value)\u001b[0m\n\u001b[0;32m    852\u001b[0m     by \u001b[39m=\u001b[39m By\u001b[39m.\u001b[39mCSS_SELECTOR\n\u001b[0;32m    853\u001b[0m     value \u001b[39m=\u001b[39m \u001b[39m'\u001b[39m\u001b[39m[name=\u001b[39m\u001b[39m\"\u001b[39m\u001b[39m%s\u001b[39;00m\u001b[39m\"\u001b[39m\u001b[39m]\u001b[39m\u001b[39m'\u001b[39m \u001b[39m%\u001b[39m value\n\u001b[1;32m--> 855\u001b[0m \u001b[39mreturn\u001b[39;00m \u001b[39mself\u001b[39;49m\u001b[39m.\u001b[39;49mexecute(Command\u001b[39m.\u001b[39;49mFIND_ELEMENT, {\n\u001b[0;32m    856\u001b[0m     \u001b[39m'\u001b[39;49m\u001b[39musing\u001b[39;49m\u001b[39m'\u001b[39;49m: by,\n\u001b[0;32m    857\u001b[0m     \u001b[39m'\u001b[39;49m\u001b[39mvalue\u001b[39;49m\u001b[39m'\u001b[39;49m: value})[\u001b[39m'\u001b[39m\u001b[39mvalue\u001b[39m\u001b[39m'\u001b[39m]\n",
      "File \u001b[1;32mc:\\Users\\brown\\AppData\\Local\\Programs\\Python\\Python310\\lib\\site-packages\\selenium\\webdriver\\remote\\webdriver.py:428\u001b[0m, in \u001b[0;36mWebDriver.execute\u001b[1;34m(self, driver_command, params)\u001b[0m\n\u001b[0;32m    426\u001b[0m response \u001b[39m=\u001b[39m \u001b[39mself\u001b[39m\u001b[39m.\u001b[39mcommand_executor\u001b[39m.\u001b[39mexecute(driver_command, params)\n\u001b[0;32m    427\u001b[0m \u001b[39mif\u001b[39;00m response:\n\u001b[1;32m--> 428\u001b[0m     \u001b[39mself\u001b[39;49m\u001b[39m.\u001b[39;49merror_handler\u001b[39m.\u001b[39;49mcheck_response(response)\n\u001b[0;32m    429\u001b[0m     response[\u001b[39m'\u001b[39m\u001b[39mvalue\u001b[39m\u001b[39m'\u001b[39m] \u001b[39m=\u001b[39m \u001b[39mself\u001b[39m\u001b[39m.\u001b[39m_unwrap_value(\n\u001b[0;32m    430\u001b[0m         response\u001b[39m.\u001b[39mget(\u001b[39m'\u001b[39m\u001b[39mvalue\u001b[39m\u001b[39m'\u001b[39m, \u001b[39mNone\u001b[39;00m))\n\u001b[0;32m    431\u001b[0m     \u001b[39mreturn\u001b[39;00m response\n",
      "File \u001b[1;32mc:\\Users\\brown\\AppData\\Local\\Programs\\Python\\Python310\\lib\\site-packages\\selenium\\webdriver\\remote\\errorhandler.py:243\u001b[0m, in \u001b[0;36mErrorHandler.check_response\u001b[1;34m(self, response)\u001b[0m\n\u001b[0;32m    241\u001b[0m         alert_text \u001b[39m=\u001b[39m value[\u001b[39m'\u001b[39m\u001b[39malert\u001b[39m\u001b[39m'\u001b[39m]\u001b[39m.\u001b[39mget(\u001b[39m'\u001b[39m\u001b[39mtext\u001b[39m\u001b[39m'\u001b[39m)\n\u001b[0;32m    242\u001b[0m     \u001b[39mraise\u001b[39;00m exception_class(message, screen, stacktrace, alert_text)  \u001b[39m# type: ignore[call-arg]  # mypy is not smart enough here\u001b[39;00m\n\u001b[1;32m--> 243\u001b[0m \u001b[39mraise\u001b[39;00m exception_class(message, screen, stacktrace)\n",
      "\u001b[1;31mNoSuchWindowException\u001b[0m: Message: no such window: target window already closed\nfrom unknown error: web view not found\n  (Session info: chrome=107.0.5304.88)\nStacktrace:\nBacktrace:\n\tOrdinal0 [0x00DBACD3+2075859]\n\tOrdinal0 [0x00D4EE61+1633889]\n\tOrdinal0 [0x00C4B7BD+571325]\n\tOrdinal0 [0x00C32E1A+470554]\n\tOrdinal0 [0x00C9AA0B+895499]\n\tOrdinal0 [0x00CAAC96+961686]\n\tOrdinal0 [0x00C97136+880950]\n\tOrdinal0 [0x00C6FEFD+720637]\n\tOrdinal0 [0x00C70F3F+724799]\n\tGetHandleVerifier [0x0106EED2+2769538]\n\tGetHandleVerifier [0x01060D95+2711877]\n\tGetHandleVerifier [0x00E4A03A+521194]\n\tGetHandleVerifier [0x00E48DA0+516432]\n\tOrdinal0 [0x00D5682C+1665068]\n\tOrdinal0 [0x00D5B128+1683752]\n\tOrdinal0 [0x00D5B215+1683989]\n\tOrdinal0 [0x00D66484+1729668]\n\tBaseThreadInitThunk [0x757DFA29+25]\n\tRtlGetAppContainerNamedObjectPath [0x77047BBE+286]\n\tRtlGetAppContainerNamedObjectPath [0x77047B8E+238]\n"
     ]
    }
   ],
   "source": [
    "comeplete = ['BAC','CVX','AMGN','AMZN','GOOG','TSLA','JNJ','HD','NKE','BB','COST','PG','AAPL','MSFT','NVDA','BABA','ADBE','VMW',\n",
    "'ORCL','HPQ','AMAT','CSCO','WMT','PANW','MU','CRM']\n",
    "ticker_list = ['TGT']\n",
    "qy = ['fq1-2020','fq2-2020','fq3-2020','fq4-2020','fq1-2021','fq2-2021','fq3-2021','fq4-2021',\n",
    "'fq1-2022','fq2-2022']\n",
    "qy2 = ['fq3-2022']\n",
    "\n",
    "\n",
    "path = r'C:\\Users\\brown\\OneDrive\\Documents\\chromedriver.exe'\n",
    "driver_service = Service(executable_path=path)\n",
    "driver = webdriver.Chrome(service=driver_service)\n",
    "url = 'https://estimize.com/'\n",
    "# analyst_ests = []\n",
    "\n",
    "for ticks in ticker_list:\n",
    "    time.sleep(1)\n",
    "    driver.get('https://google.com')\n",
    "    time.sleep(1)\n",
    "    for q in qy2:  \n",
    "        time.sleep(1)\n",
    "        driver.get(f\"{url}{ticks}/{q}?metric_name=eps&chart=table\")\n",
    "        time.sleep(1)\n",
    "        try:\n",
    "            login = driver.find_element('xpath','//*[@id=\"top-navigation\"]/div/a[2]')\n",
    "            login.click()\n",
    "            time.sleep(1)\n",
    "            # list username and password as variables\n",
    "            username = 'cbrown180@student.gsu.edu'\n",
    "            password = '123456'\n",
    "            # find email field in HTML and send username to field -- sleep 2 seconds\n",
    "            email_field = driver.find_element('name','user[login]')\n",
    "            email_field.send_keys(username)\n",
    "            time.sleep(1)\n",
    "            # find the password field and input password and submit\n",
    "            password_field = driver.find_element('name','user[password]')\n",
    "            password_field.send_keys(password)\n",
    "            password_field.submit()\n",
    "            time.sleep(1)\n",
    "        except NoSuchElementException:\n",
    "            pass\n",
    "\n",
    "        try:\n",
    "        # find show all element and click it\n",
    "            show_all = driver.find_element('xpath','//*[@id=\"estimates\"]/div/a')\n",
    "            show_all.click()\n",
    "            time.sleep(1)\n",
    "        except NoSuchElementException:\n",
    "            pass\n",
    "\n",
    "\n",
    "        # find count of estimate to iterate through all estimates\n",
    "        c = int(driver.find_element('xpath','//*[@id=\"estimates\"]/p[1]/strong/span').text)\n",
    "\n",
    "        # grab analyst id and estimation append to a row with ticker, q_y, analyst, and estimate \n",
    "        for i in range(1,c+1):\n",
    "           \n",
    "            \n",
    "            # row to append to final list/dataframe\n",
    "            row = {}\n",
    "            # create variable to assign ticker to the row \n",
    "            company = ticks\n",
    "            row['ticker'] = company\n",
    "            # create variable to assign the quarter and year\n",
    "            qyear = f'{q}' \n",
    "            row['quarter'] = qyear\n",
    "            # grab analyst id... not just the name grab the data user to use in url for final scraper\n",
    "            users = driver.find_element('xpath',f'//*[@id=\"estimates\"]/table/tbody[2]/tr[{i}]/td[3]/a[2]/strong').get_attribute('data-user')                                 \n",
    "            row['analyst'] = users\n",
    "            #  grab the actual estimation\n",
    "            analyst_value = driver.find_element('xpath',f'//*[@id=\"estimates\"]/table/tbody[2]/tr[{i}]/td[6]').text                               \n",
    "            row['eps_estimate'] = analyst_value\n",
    "            #  grab the confidence score of the estimate \n",
    "            estimate_conf = driver.find_element('xpath', f'//*[@id=\"estimates\"]/table/tbody[2]/tr[{i}]/td[7]').text                                      \n",
    "            row['analyst_confidence'] = estimate_conf\n",
    "            \n",
    "            if row not in predictions:\n",
    "                predictions.append(row)\n"
   ]
  },
  {
   "cell_type": "code",
   "execution_count": 66,
   "metadata": {},
   "outputs": [
    {
     "name": "stdout",
     "output_type": "stream",
     "text": [
      "      ticker   quarter          analyst eps_estimate analyst_confidence\n",
      "0       LULU  fq1-2020  analyst_9404487         0.22                4.4\n",
      "1       LULU  fq1-2020  analyst_6216740         0.23                4.6\n",
      "2       LULU  fq1-2020   analyst_530056         0.23                4.9\n",
      "3       LULU  fq1-2020  analyst_8278771         0.23                5.1\n",
      "4       LULU  fq1-2020  analyst_9872866         0.23                5.3\n",
      "...      ...       ...              ...          ...                ...\n",
      "34988    CRM  fq3-2022          awnarog         0.86                3.3\n",
      "34989    CRM  fq3-2022  analyst_3423843         0.82                3.6\n",
      "34990    CRM  fq3-2022  analyst_2147839         1.78                5.0\n",
      "34991    CRM  fq3-2022  killerwhales444         1.90                1.5\n",
      "34992    CRM  fq3-2022  analyst_2659549         2.90                1.8\n",
      "\n",
      "[34993 rows x 5 columns]\n"
     ]
    }
   ],
   "source": [
    "df = pd.DataFrame(predictions)\n",
    "print(df)\n",
    "# df.to_csv('predictions.csv')"
   ]
  },
  {
   "cell_type": "code",
   "execution_count": 71,
   "metadata": {},
   "outputs": [
    {
     "name": "stdout",
     "output_type": "stream",
     "text": [
      "0        analyst_9404487\n",
      "1        analyst_6216740\n",
      "2         analyst_530056\n",
      "3        analyst_8278771\n",
      "4        analyst_9872866\n",
      "              ...       \n",
      "34965            htran86\n",
      "34967    analyst_6931215\n",
      "34969    analyst_3638872\n",
      "34973    analyst_9401163\n",
      "34982    analyst_2840577\n",
      "Name: analyst, Length: 8798, dtype: object\n"
     ]
    }
   ],
   "source": [
    "data_user = df['analyst']\n",
    "data_user = data_user.drop_duplicates()\n",
    "print(data_user)\n",
    "data_user.to_csv('analyst_URL_keys.csv')"
   ]
  }
 ],
 "metadata": {
  "kernelspec": {
   "display_name": "Python 3.9.6 64-bit",
   "language": "python",
   "name": "python3"
  },
  "language_info": {
   "codemirror_mode": {
    "name": "ipython",
    "version": 3
   },
   "file_extension": ".py",
   "mimetype": "text/x-python",
   "name": "python",
   "nbconvert_exporter": "python",
   "pygments_lexer": "ipython3",
   "version": "3.9.6"
  },
  "orig_nbformat": 4,
  "vscode": {
   "interpreter": {
    "hash": "aee8b7b246df8f9039afb4144a1f6fd8d2ca17a180786b69acc140d282b71a49"
   }
  }
 },
 "nbformat": 4,
 "nbformat_minor": 2
}
