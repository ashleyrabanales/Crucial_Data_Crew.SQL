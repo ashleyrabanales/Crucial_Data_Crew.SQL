{
 "cells": [
  {
   "cell_type": "code",
   "execution_count": 13,
   "metadata": {},
   "outputs": [],
   "source": [
    "import selenium\n",
    "from selenium import webdriver\n",
    "from selenium.webdriver.chrome.service import Service\n",
    "from selenium.common.exceptions import NoSuchElementException\n",
    "from selenium.webdriver.common.by import By\n",
    "import time\n",
    "import random\n",
    "import pandas as pd\n"
   ]
  },
  {
   "cell_type": "code",
   "execution_count": 29,
   "metadata": {},
   "outputs": [],
   "source": [
    "import pandas as pd\n",
    "import selenium\n",
    "from selenium import webdriver\n",
    "from selenium.webdriver.common.by import By\n",
    "from selenium.webdriver.chrome.service import Service\n",
    "import selenium\n",
    "from selenium.webdriver.support.ui import WebDriverWait"
   ]
  },
  {
   "cell_type": "code",
   "execution_count": 1,
   "metadata": {},
   "outputs": [
    {
     "data": {
      "text/plain": [
       "'3.141.0'"
      ]
     },
     "execution_count": 1,
     "metadata": {},
     "output_type": "execute_result"
    }
   ],
   "source": [
    "#import selenium\n",
    "#selenium.__version__"
   ]
  },
  {
   "cell_type": "code",
   "execution_count": 14,
   "metadata": {},
   "outputs": [
    {
     "data": {
      "text/plain": [
       "'4.6.0'"
      ]
     },
     "execution_count": 14,
     "metadata": {},
     "output_type": "execute_result"
    }
   ],
   "source": [
    "#pip install selenium --upgrade\n",
    "import selenium\n",
    "selenium.__version__"
   ]
  },
  {
   "cell_type": "code",
   "execution_count": 41,
   "metadata": {},
   "outputs": [],
   "source": [
    "driver_service = Service(executable_path= path) #set a driver for the path\n",
    "driver = webdriver.Chrome(service=driver_service) # how to launch chrome auto\n",
    "driver.get(f'https://estimize.com/users/scooter186') #f path"
   ]
  },
  {
   "cell_type": "code",
   "execution_count": 43,
   "metadata": {},
   "outputs": [],
   "source": [
    "Predictions = pd.read_csv('/Users/ashleyrabanales/OneDrive - Georgia State University/Data Management in Analytics/Crucial_Data_Crew.SQL/Project 3/datasets/predictions.csv')\n",
    "ID = pd.read_csv('/Users/ashleyrabanales/OneDrive - Georgia State University/Data Management in Analytics/Crucial_Data_Crew.SQL/Project 3/datasets/analyst_URL_keys.csv')"
   ]
  },
  {
   "cell_type": "code",
   "execution_count": 44,
   "metadata": {},
   "outputs": [],
   "source": [
    "ID1 = Predictions['analyst'].drop_duplicates()"
   ]
  },
  {
   "cell_type": "code",
   "execution_count": 45,
   "metadata": {},
   "outputs": [
    {
     "data": {
      "text/plain": [
       "8798"
      ]
     },
     "execution_count": 45,
     "metadata": {},
     "output_type": "execute_result"
    }
   ],
   "source": [
    "len(ID1)"
   ]
  },
  {
   "cell_type": "code",
   "execution_count": 46,
   "metadata": {},
   "outputs": [
    {
     "data": {
      "text/plain": [
       "8798"
      ]
     },
     "execution_count": 46,
     "metadata": {},
     "output_type": "execute_result"
    }
   ],
   "source": [
    "len(ID)"
   ]
  },
  {
   "cell_type": "code",
   "execution_count": 47,
   "metadata": {},
   "outputs": [
    {
     "data": {
      "text/plain": [
       "[]"
      ]
     },
     "execution_count": 47,
     "metadata": {},
     "output_type": "execute_result"
    }
   ],
   "source": [
    "IDD = ID1.loc[0:1]\n",
    "\n",
    "Analyst = []\n",
    "Analyst"
   ]
  },
  {
   "cell_type": "code",
   "execution_count": null,
   "metadata": {},
   "outputs": [],
   "source": []
  },
  {
   "cell_type": "code",
   "execution_count": 48,
   "metadata": {},
   "outputs": [],
   "source": [
    "path = r'/Users/ashleyrabanales/chromedriver' #f path \n",
    "driver_service = Service(executable_path=path)\n",
    "driver = webdriver.Chrome(service=driver_service)\n",
    "url = 'https://estimize.com/'\n",
    "\n",
    "for ID in IDD:\n",
    "    time.sleep(5)\n",
    "    driver.get(f\"{url}/users/{ID}\")\n",
    "    time.sleep(5)\n",
    "    # row to append to final list/dataframe\n",
    "    try:\n",
    "        login = driver.find_element('xpath','//*[@id=\"top-navigation\"]/div[1]/ul/li[8]/a')\n",
    "        login.click()\n",
    "        time.sleep(4)\n",
    "        # list username and password as variables\n",
    "        username = 'cbrown180@student.gsu.edu'\n",
    "        password = '123456'\n",
    "        # find email field in HTML and send username to field -- sleep 2 seconds\n",
    "        email_field = driver.find_element('name','user[login]')\n",
    "        email_field.send_keys(username)\n",
    "        time.sleep(4)\n",
    "        # find the password field and input password and submit\n",
    "        password_field = driver.find_element('name','user[password]')\n",
    "        password_field.send_keys(password)\n",
    "        password_field.submit()\n",
    "        time.sleep(4)\n",
    "    except NoSuchElementException:\n",
    "        pass\n",
    "    row = {}\n",
    "    # create variable to assign ticker to the row \n",
    "    row['AnalystID'] = ID\n",
    "    # grab analyst id... not just the name grab the data user to use in url for final scraper\n",
    "    name = driver.find_element('xpath',f'//*[@id=\"users_show\"]/div[4]/div[1]/div[1]/div[1]/div/h1/a').text\n",
    "    row['Name'] = name\n",
    "    if row not in Analyst:\n",
    "                Analyst.append(row)"
   ]
  },
  {
   "cell_type": "code",
   "execution_count": 49,
   "metadata": {},
   "outputs": [
    {
     "data": {
      "text/plain": [
       "[{'AnalystID': 'analyst_9404487', 'Name': 'Rasun'},\n",
       " {'AnalystID': 'analyst_6216740', 'Name': 'Analyst_6216740'}]"
      ]
     },
     "execution_count": 49,
     "metadata": {},
     "output_type": "execute_result"
    }
   ],
   "source": [
    "Analyst"
   ]
  },
  {
   "cell_type": "code",
   "execution_count": null,
   "metadata": {},
   "outputs": [],
   "source": []
  }
 ],
 "metadata": {
  "kernelspec": {
   "display_name": "Python 3.9.6 64-bit",
   "language": "python",
   "name": "python3"
  },
  "language_info": {
   "codemirror_mode": {
    "name": "ipython",
    "version": 3
   },
   "file_extension": ".py",
   "mimetype": "text/x-python",
   "name": "python",
   "nbconvert_exporter": "python",
   "pygments_lexer": "ipython3",
   "version": "3.9.6"
  },
  "orig_nbformat": 4,
  "vscode": {
   "interpreter": {
    "hash": "aee8b7b246df8f9039afb4144a1f6fd8d2ca17a180786b69acc140d282b71a49"
   }
  }
 },
 "nbformat": 4,
 "nbformat_minor": 2
}
