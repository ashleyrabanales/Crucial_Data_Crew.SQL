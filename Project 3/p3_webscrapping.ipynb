{
 "cells": [
  {
   "cell_type": "code",
   "execution_count": 1,
   "metadata": {},
   "outputs": [],
   "source": [
    "import selenium\n",
    "from selenium import webdriver\n",
    "from selenium.webdriver.chrome.service import Service\n",
    "from selenium.common.exceptions import NoSuchElementException\n",
    "from selenium.webdriver.common.by import By\n",
    "import time\n",
    "import random\n",
    "import pandas as pd\n"
   ]
  },
  {
   "cell_type": "code",
   "execution_count": 2,
   "metadata": {},
   "outputs": [],
   "source": [
    "import pandas as pd\n",
    "import selenium\n",
    "from selenium import webdriver\n",
    "from selenium.webdriver.common.by import By\n",
    "from selenium.webdriver.chrome.service import Service\n",
    "import selenium\n",
    "from selenium.webdriver.support.ui import WebDriverWait"
   ]
  },
  {
   "cell_type": "code",
   "execution_count": 1,
   "metadata": {},
   "outputs": [
    {
     "data": {
      "text/plain": [
       "'3.141.0'"
      ]
     },
     "execution_count": 1,
     "metadata": {},
     "output_type": "execute_result"
    }
   ],
   "source": [
    "#import selenium\n",
    "#selenium.__version__"
   ]
  },
  {
   "cell_type": "code",
   "execution_count": 14,
   "metadata": {},
   "outputs": [
    {
     "data": {
      "text/plain": [
       "'4.6.0'"
      ]
     },
     "execution_count": 14,
     "metadata": {},
     "output_type": "execute_result"
    }
   ],
   "source": [
    "#pip install selenium --upgrade\n",
    "#import selenium\n",
    "selenium.__version__"
   ]
  },
  {
   "cell_type": "code",
   "execution_count": 3,
   "metadata": {},
   "outputs": [],
   "source": [
    "Predictions = pd.read_csv('/Users/ashleyrabanales/OneDrive - Georgia State University/Data Management in Analytics/Crucial_Data_Crew.SQL/Project 3/datasets/predictions.csv')\n",
    "ID = pd.read_csv('/Users/ashleyrabanales/OneDrive - Georgia State University/Data Management in Analytics/Crucial_Data_Crew.SQL/Project 3/datasets/analyst_URL_keys.csv')"
   ]
  },
  {
   "cell_type": "code",
   "execution_count": 4,
   "metadata": {},
   "outputs": [],
   "source": [
    "ID1 = Predictions['analyst'].drop_duplicates()"
   ]
  },
  {
   "cell_type": "code",
   "execution_count": 5,
   "metadata": {},
   "outputs": [
    {
     "data": {
      "text/plain": [
       "8798"
      ]
     },
     "execution_count": 5,
     "metadata": {},
     "output_type": "execute_result"
    }
   ],
   "source": [
    "len(ID1)"
   ]
  },
  {
   "cell_type": "code",
   "execution_count": 6,
   "metadata": {},
   "outputs": [
    {
     "data": {
      "text/plain": [
       "8798"
      ]
     },
     "execution_count": 6,
     "metadata": {},
     "output_type": "execute_result"
    }
   ],
   "source": [
    "len(ID)"
   ]
  },
  {
   "cell_type": "code",
   "execution_count": 16,
   "metadata": {},
   "outputs": [
    {
     "data": {
      "text/plain": [
       "[]"
      ]
     },
     "execution_count": 16,
     "metadata": {},
     "output_type": "execute_result"
    }
   ],
   "source": [
    "IDD = ID1.loc[0:500]\n",
    "\n",
    "Analyst = []\n",
    "Analyst"
   ]
  },
  {
   "cell_type": "code",
   "execution_count": 20,
   "metadata": {},
   "outputs": [
    {
     "ename": "NoSuchElementException",
     "evalue": "Message: no such element: Unable to locate element: {\"method\":\"xpath\",\"selector\":\"//*[@id=\"users_show\"]/div[4]/div[1]/div[1]/div[1]/div/h1/a\"}\n  (Session info: chrome=107.0.5304.110)\nStacktrace:\n0   chromedriver                        0x00000001084962c8 chromedriver + 4752072\n1   chromedriver                        0x0000000108416463 chromedriver + 4228195\n2   chromedriver                        0x0000000108079b18 chromedriver + 441112\n3   chromedriver                        0x00000001080b6e21 chromedriver + 691745\n4   chromedriver                        0x00000001080b7061 chromedriver + 692321\n5   chromedriver                        0x00000001080f25e4 chromedriver + 935396\n6   chromedriver                        0x00000001080d7d2d chromedriver + 826669\n7   chromedriver                        0x00000001080f0134 chromedriver + 926004\n8   chromedriver                        0x00000001080d7b33 chromedriver + 826163\n9   chromedriver                        0x00000001080a89fd chromedriver + 633341\n10  chromedriver                        0x00000001080aa051 chromedriver + 639057\n11  chromedriver                        0x000000010846330e chromedriver + 4543246\n12  chromedriver                        0x0000000108467a88 chromedriver + 4561544\n13  chromedriver                        0x000000010846f6df chromedriver + 4593375\n14  chromedriver                        0x00000001084688fa chromedriver + 4565242\n15  chromedriver                        0x000000010843e2cf chromedriver + 4391631\n16  chromedriver                        0x00000001084875b8 chromedriver + 4691384\n17  chromedriver                        0x0000000108487739 chromedriver + 4691769\n18  chromedriver                        0x000000010849d81e chromedriver + 4782110\n19  libsystem_pthread.dylib             0x00007fff765332eb _pthread_body + 126\n20  libsystem_pthread.dylib             0x00007fff76536249 _pthread_start + 66\n21  libsystem_pthread.dylib             0x00007fff7653240d thread_start + 13\n",
     "output_type": "error",
     "traceback": [
      "\u001b[0;31m---------------------------------------------------------------------------\u001b[0m",
      "\u001b[0;31mNoSuchElementException\u001b[0m                    Traceback (most recent call last)",
      "\u001b[0;32m/var/folders/4t/j0tpqxs11zz8x88ccnwr34rc0000gn/T/ipykernel_20152/2631787732.py\u001b[0m in \u001b[0;36m<module>\u001b[0;34m\u001b[0m\n\u001b[1;32m     41\u001b[0m     \u001b[0mrow\u001b[0m\u001b[0;34m[\u001b[0m\u001b[0;34m'AnalystID'\u001b[0m\u001b[0;34m]\u001b[0m \u001b[0;34m=\u001b[0m \u001b[0mID\u001b[0m\u001b[0;34m\u001b[0m\u001b[0;34m\u001b[0m\u001b[0m\n\u001b[1;32m     42\u001b[0m     \u001b[0;31m# grab analyst id... not just the name grab the data user to use in url for final scraper\u001b[0m\u001b[0;34m\u001b[0m\u001b[0;34m\u001b[0m\u001b[0;34m\u001b[0m\u001b[0m\n\u001b[0;32m---> 43\u001b[0;31m     \u001b[0mname\u001b[0m \u001b[0;34m=\u001b[0m \u001b[0mdriver\u001b[0m\u001b[0;34m.\u001b[0m\u001b[0mfind_element\u001b[0m\u001b[0;34m(\u001b[0m\u001b[0;34m'xpath'\u001b[0m\u001b[0;34m,\u001b[0m\u001b[0;34mf'//*[@id=\"users_show\"]/div[4]/div[1]/div[1]/div[1]/div/h1/a'\u001b[0m\u001b[0;34m)\u001b[0m\u001b[0;34m.\u001b[0m\u001b[0mtext\u001b[0m\u001b[0;34m\u001b[0m\u001b[0;34m\u001b[0m\u001b[0m\n\u001b[0m\u001b[1;32m     44\u001b[0m     \u001b[0mrow\u001b[0m\u001b[0;34m[\u001b[0m\u001b[0;34m'Name'\u001b[0m\u001b[0;34m]\u001b[0m \u001b[0;34m=\u001b[0m \u001b[0mname\u001b[0m\u001b[0;34m\u001b[0m\u001b[0;34m\u001b[0m\u001b[0m\n\u001b[1;32m     45\u001b[0m     \u001b[0mrole\u001b[0m \u001b[0;34m=\u001b[0m \u001b[0mdriver\u001b[0m\u001b[0;34m.\u001b[0m\u001b[0mfind_element\u001b[0m\u001b[0;34m(\u001b[0m\u001b[0;34m'xpath'\u001b[0m\u001b[0;34m,\u001b[0m \u001b[0;34mf'//*[@id=\"users_show\"]/div[4]/div[1]/div[1]/div[1]/div/ul'\u001b[0m\u001b[0;34m)\u001b[0m\u001b[0;34m.\u001b[0m\u001b[0mtext\u001b[0m\u001b[0;34m\u001b[0m\u001b[0;34m\u001b[0m\u001b[0m\n",
      "\u001b[0;32m/Library/Frameworks/Python.framework/Versions/3.9/lib/python3.9/site-packages/selenium/webdriver/remote/webdriver.py\u001b[0m in \u001b[0;36mfind_element\u001b[0;34m(self, by, value)\u001b[0m\n\u001b[1;32m    859\u001b[0m             \u001b[0mvalue\u001b[0m \u001b[0;34m=\u001b[0m \u001b[0;34m'[name=\"%s\"]'\u001b[0m \u001b[0;34m%\u001b[0m \u001b[0mvalue\u001b[0m\u001b[0;34m\u001b[0m\u001b[0;34m\u001b[0m\u001b[0m\n\u001b[1;32m    860\u001b[0m \u001b[0;34m\u001b[0m\u001b[0m\n\u001b[0;32m--> 861\u001b[0;31m         \u001b[0;32mreturn\u001b[0m \u001b[0mself\u001b[0m\u001b[0;34m.\u001b[0m\u001b[0mexecute\u001b[0m\u001b[0;34m(\u001b[0m\u001b[0mCommand\u001b[0m\u001b[0;34m.\u001b[0m\u001b[0mFIND_ELEMENT\u001b[0m\u001b[0;34m,\u001b[0m \u001b[0;34m{\u001b[0m\u001b[0;34m\"using\"\u001b[0m\u001b[0;34m:\u001b[0m \u001b[0mby\u001b[0m\u001b[0;34m,\u001b[0m \u001b[0;34m\"value\"\u001b[0m\u001b[0;34m:\u001b[0m \u001b[0mvalue\u001b[0m\u001b[0;34m}\u001b[0m\u001b[0;34m)\u001b[0m\u001b[0;34m[\u001b[0m\u001b[0;34m\"value\"\u001b[0m\u001b[0;34m]\u001b[0m\u001b[0;34m\u001b[0m\u001b[0;34m\u001b[0m\u001b[0m\n\u001b[0m\u001b[1;32m    862\u001b[0m \u001b[0;34m\u001b[0m\u001b[0m\n\u001b[1;32m    863\u001b[0m     \u001b[0;32mdef\u001b[0m \u001b[0mfind_elements\u001b[0m\u001b[0;34m(\u001b[0m\u001b[0mself\u001b[0m\u001b[0;34m,\u001b[0m \u001b[0mby\u001b[0m\u001b[0;34m=\u001b[0m\u001b[0mBy\u001b[0m\u001b[0;34m.\u001b[0m\u001b[0mID\u001b[0m\u001b[0;34m,\u001b[0m \u001b[0mvalue\u001b[0m\u001b[0;34m:\u001b[0m \u001b[0mOptional\u001b[0m\u001b[0;34m[\u001b[0m\u001b[0mstr\u001b[0m\u001b[0;34m]\u001b[0m \u001b[0;34m=\u001b[0m \u001b[0;32mNone\u001b[0m\u001b[0;34m)\u001b[0m \u001b[0;34m->\u001b[0m \u001b[0mList\u001b[0m\u001b[0;34m[\u001b[0m\u001b[0mWebElement\u001b[0m\u001b[0;34m]\u001b[0m\u001b[0;34m:\u001b[0m\u001b[0;34m\u001b[0m\u001b[0;34m\u001b[0m\u001b[0m\n",
      "\u001b[0;32m/Library/Frameworks/Python.framework/Versions/3.9/lib/python3.9/site-packages/selenium/webdriver/remote/webdriver.py\u001b[0m in \u001b[0;36mexecute\u001b[0;34m(self, driver_command, params)\u001b[0m\n\u001b[1;32m    442\u001b[0m         \u001b[0mresponse\u001b[0m \u001b[0;34m=\u001b[0m \u001b[0mself\u001b[0m\u001b[0;34m.\u001b[0m\u001b[0mcommand_executor\u001b[0m\u001b[0;34m.\u001b[0m\u001b[0mexecute\u001b[0m\u001b[0;34m(\u001b[0m\u001b[0mdriver_command\u001b[0m\u001b[0;34m,\u001b[0m \u001b[0mparams\u001b[0m\u001b[0;34m)\u001b[0m\u001b[0;34m\u001b[0m\u001b[0;34m\u001b[0m\u001b[0m\n\u001b[1;32m    443\u001b[0m         \u001b[0;32mif\u001b[0m \u001b[0mresponse\u001b[0m\u001b[0;34m:\u001b[0m\u001b[0;34m\u001b[0m\u001b[0;34m\u001b[0m\u001b[0m\n\u001b[0;32m--> 444\u001b[0;31m             \u001b[0mself\u001b[0m\u001b[0;34m.\u001b[0m\u001b[0merror_handler\u001b[0m\u001b[0;34m.\u001b[0m\u001b[0mcheck_response\u001b[0m\u001b[0;34m(\u001b[0m\u001b[0mresponse\u001b[0m\u001b[0;34m)\u001b[0m\u001b[0;34m\u001b[0m\u001b[0;34m\u001b[0m\u001b[0m\n\u001b[0m\u001b[1;32m    445\u001b[0m             \u001b[0mresponse\u001b[0m\u001b[0;34m[\u001b[0m\u001b[0;34m\"value\"\u001b[0m\u001b[0;34m]\u001b[0m \u001b[0;34m=\u001b[0m \u001b[0mself\u001b[0m\u001b[0;34m.\u001b[0m\u001b[0m_unwrap_value\u001b[0m\u001b[0;34m(\u001b[0m\u001b[0mresponse\u001b[0m\u001b[0;34m.\u001b[0m\u001b[0mget\u001b[0m\u001b[0;34m(\u001b[0m\u001b[0;34m\"value\"\u001b[0m\u001b[0;34m,\u001b[0m \u001b[0;32mNone\u001b[0m\u001b[0;34m)\u001b[0m\u001b[0;34m)\u001b[0m\u001b[0;34m\u001b[0m\u001b[0;34m\u001b[0m\u001b[0m\n\u001b[1;32m    446\u001b[0m             \u001b[0;32mreturn\u001b[0m \u001b[0mresponse\u001b[0m\u001b[0;34m\u001b[0m\u001b[0;34m\u001b[0m\u001b[0m\n",
      "\u001b[0;32m/Library/Frameworks/Python.framework/Versions/3.9/lib/python3.9/site-packages/selenium/webdriver/remote/errorhandler.py\u001b[0m in \u001b[0;36mcheck_response\u001b[0;34m(self, response)\u001b[0m\n\u001b[1;32m    247\u001b[0m                 \u001b[0malert_text\u001b[0m \u001b[0;34m=\u001b[0m \u001b[0mvalue\u001b[0m\u001b[0;34m[\u001b[0m\u001b[0;34m\"alert\"\u001b[0m\u001b[0;34m]\u001b[0m\u001b[0;34m.\u001b[0m\u001b[0mget\u001b[0m\u001b[0;34m(\u001b[0m\u001b[0;34m\"text\"\u001b[0m\u001b[0;34m)\u001b[0m\u001b[0;34m\u001b[0m\u001b[0;34m\u001b[0m\u001b[0m\n\u001b[1;32m    248\u001b[0m             \u001b[0;32mraise\u001b[0m \u001b[0mexception_class\u001b[0m\u001b[0;34m(\u001b[0m\u001b[0mmessage\u001b[0m\u001b[0;34m,\u001b[0m \u001b[0mscreen\u001b[0m\u001b[0;34m,\u001b[0m \u001b[0mstacktrace\u001b[0m\u001b[0;34m,\u001b[0m \u001b[0malert_text\u001b[0m\u001b[0;34m)\u001b[0m  \u001b[0;31m# type: ignore[call-arg]  # mypy is not smart enough here\u001b[0m\u001b[0;34m\u001b[0m\u001b[0;34m\u001b[0m\u001b[0m\n\u001b[0;32m--> 249\u001b[0;31m         \u001b[0;32mraise\u001b[0m \u001b[0mexception_class\u001b[0m\u001b[0;34m(\u001b[0m\u001b[0mmessage\u001b[0m\u001b[0;34m,\u001b[0m \u001b[0mscreen\u001b[0m\u001b[0;34m,\u001b[0m \u001b[0mstacktrace\u001b[0m\u001b[0;34m)\u001b[0m\u001b[0;34m\u001b[0m\u001b[0;34m\u001b[0m\u001b[0m\n\u001b[0m",
      "\u001b[0;31mNoSuchElementException\u001b[0m: Message: no such element: Unable to locate element: {\"method\":\"xpath\",\"selector\":\"//*[@id=\"users_show\"]/div[4]/div[1]/div[1]/div[1]/div/h1/a\"}\n  (Session info: chrome=107.0.5304.110)\nStacktrace:\n0   chromedriver                        0x00000001084962c8 chromedriver + 4752072\n1   chromedriver                        0x0000000108416463 chromedriver + 4228195\n2   chromedriver                        0x0000000108079b18 chromedriver + 441112\n3   chromedriver                        0x00000001080b6e21 chromedriver + 691745\n4   chromedriver                        0x00000001080b7061 chromedriver + 692321\n5   chromedriver                        0x00000001080f25e4 chromedriver + 935396\n6   chromedriver                        0x00000001080d7d2d chromedriver + 826669\n7   chromedriver                        0x00000001080f0134 chromedriver + 926004\n8   chromedriver                        0x00000001080d7b33 chromedriver + 826163\n9   chromedriver                        0x00000001080a89fd chromedriver + 633341\n10  chromedriver                        0x00000001080aa051 chromedriver + 639057\n11  chromedriver                        0x000000010846330e chromedriver + 4543246\n12  chromedriver                        0x0000000108467a88 chromedriver + 4561544\n13  chromedriver                        0x000000010846f6df chromedriver + 4593375\n14  chromedriver                        0x00000001084688fa chromedriver + 4565242\n15  chromedriver                        0x000000010843e2cf chromedriver + 4391631\n16  chromedriver                        0x00000001084875b8 chromedriver + 4691384\n17  chromedriver                        0x0000000108487739 chromedriver + 4691769\n18  chromedriver                        0x000000010849d81e chromedriver + 4782110\n19  libsystem_pthread.dylib             0x00007fff765332eb _pthread_body + 126\n20  libsystem_pthread.dylib             0x00007fff76536249 _pthread_start + 66\n21  libsystem_pthread.dylib             0x00007fff7653240d thread_start + 13\n"
     ]
    }
   ],
   "source": [
    "\n",
    "path = r'/Users/ashleyrabanales/chromedriver' #f path \n",
    "driver_service = Service(executable_path=path)\n",
    "driver = webdriver.Chrome(service=driver_service)\n",
    "url = 'https://estimize.com/'\n",
    "\n",
    "for ID in IDD:\n",
    "    time.sleep(random.uniform(2,5))\n",
    "    driver.get(f\"{url}/users/{ID}\")\n",
    "    time.sleep(random.uniform(2,3))\n",
    "    # row to append to final list/dataframe\n",
    "    try:\n",
    "        login = driver.find_element('xpath','//*[@id=\"top-navigation\"]/div[1]/ul/li[8]/a')\n",
    "        login.click()\n",
    "        time.sleep(random.uniform(3,8))\n",
    "        # list username and password as variables\n",
    "        username = 'cbrown180@student.gsu.edu'\n",
    "        password = '123456'\n",
    "        # find email field in HTML and send username to field -- sleep 2 seconds\n",
    "        email_field = driver.find_element('name','user[login]')\n",
    "        email_field.send_keys(username)\n",
    "        time.sleep(random.uniform(2,9))\n",
    "        # find the password field and input password and submit\n",
    "        password_field = driver.find_element('name','user[password]')\n",
    "        password_field.send_keys(password)\n",
    "        password_field.submit()\n",
    "        time.sleep(random.uniform(3,3))\n",
    "    except NoSuchElementException:\n",
    "        pass\n",
    "    row = {}\n",
    "    # create variable to assign ticker to the row \n",
    "    row['AnalystID'] = ID\n",
    "    # grab analyst id... not just the name grab the data user to use in url for final scraper\n",
    "    name = driver.find_element('xpath',f'//*[@id=\"users_show\"]/div[4]/div[1]/div[1]/div[1]/div/h1/a').text\n",
    "    row['Name'] = name\n",
    "    role = driver.find_element('xpath', f'//*[@id=\"users_show\"]/div[4]/div[1]/div[1]/div[1]/div/ul').text\n",
    "    row['Role'] = role\n",
    "    join_date = driver.find_element('xpath', f'//*[@id=\"users_show\"]/div[4]/div[1]/div[1]/div[1]/div/div[2]/div[2]').text\n",
    "    row['Join Date'] = join_date\n",
    "    cs = driver.find_element('xpath', f'//*[@id=\"confidence-wrap\"]/div/div[2]').text\n",
    "    row['Analyst Confidence Score'] = cs\n",
    "    Err = driver.find_element('xpath',f'//*[@id=\"profile-tab-wrap\"]/div[1]/div[1]/div[3]').text\n",
    "    row['Error rate'] = Err\n",
    "    Accu = driver.find_element('xpath',f'//*[@id=\"profile-tab-wrap\"]/div[1]/div[2]/div[2]').text\n",
    "    row['Accuracy Percentile'] = Accu\n",
    "    Points = driver.find_element('xpath',f'//*[@id=\"profile-tab-wrap\"]/div[2]/div[1]/div[3]').text\n",
    "    row['Points'] = Points\n",
    "    PointsE = driver.find_element('xpath',f'//*[@id=\"profile-tab-wrap\"]/div[2]/div[2]/div[2]').text\n",
    "    row['Points/Estimate'] = PointsE\n",
    "    Stocks = driver.find_element('xpath',f'//*[@id=\"profile-tab-wrap\"]/div[3]/div[1]/div[3]').text\n",
    "    row['Stocks'] = Stocks\n",
    "    Pending = driver.find_element('xpath',f'//*[@id=\"profile-tab-wrap\"]/div[3]/div[2]/div[3]').text\n",
    "    row['Pending'] = Pending\n",
    "    if row not in Analyst:\n",
    "                Analyst.append(row)\n",
    "    "
   ]
  },
  {
   "cell_type": "code",
   "execution_count": 22,
   "metadata": {},
   "outputs": [
    {
     "data": {
      "text/plain": [
       "{'AnalystID': 'analyst_2987095',\n",
       " 'Name': 'Analyst_2987095',\n",
       " 'Role': 'Non Professional Other Other',\n",
       " 'Join Date': 'Member since Jun 2020',\n",
       " 'Analyst Confidence Score': '7.0',\n",
       " 'Error rate': '7.5% all time',\n",
       " 'Accuracy Percentile': '78% all time',\n",
       " 'Points': '22 all time',\n",
       " 'Points/Estimate': '22 all time',\n",
       " 'Stocks': '1 all time',\n",
       " 'Pending': '1 total'}"
      ]
     },
     "execution_count": 22,
     "metadata": {},
     "output_type": "execute_result"
    }
   ],
   "source": [
    "Analyst[-1]"
   ]
  },
  {
   "cell_type": "code",
   "execution_count": 27,
   "metadata": {},
   "outputs": [
    {
     "data": {
      "text/plain": [
       "0     analyst_9404487\n",
       "1     analyst_6216740\n",
       "2      analyst_530056\n",
       "3     analyst_8278771\n",
       "4     analyst_9872866\n",
       "5     analyst_3930948\n",
       "6     analyst_2400042\n",
       "7       analyst_44591\n",
       "8     analyst_5646744\n",
       "9     analyst_6879164\n",
       "10    analyst_9118472\n",
       "11    analyst_6348688\n",
       "12    analyst_6450176\n",
       "13    analyst_6829785\n",
       "14    analyst_9735960\n",
       "15    analyst_9792569\n",
       "16    analyst_3219570\n",
       "17    analyst_8734385\n",
       "18    analyst_2987095\n",
       "19    analyst_7418197\n",
       "20    analyst_3451960\n",
       "21     benjenholdings\n",
       "22    analyst_8453134\n",
       "23    analyst-7674211\n",
       "24     analyst_917890\n",
       "25         scooter186\n",
       "26    analyst_5001822\n",
       "27       shawnpcooney\n",
       "28    analyst_1108254\n",
       "29     analyst_334150\n",
       "Name: analyst, dtype: object"
      ]
     },
     "execution_count": 27,
     "metadata": {},
     "output_type": "execute_result"
    }
   ],
   "source": [
    "IDD.head(30)"
   ]
  },
  {
   "cell_type": "code",
   "execution_count": null,
   "metadata": {},
   "outputs": [],
   "source": []
  }
 ],
 "metadata": {
  "kernelspec": {
   "display_name": "Python 3.9.6 64-bit",
   "language": "python",
   "name": "python3"
  },
  "language_info": {
   "codemirror_mode": {
    "name": "ipython",
    "version": 3
   },
   "file_extension": ".py",
   "mimetype": "text/x-python",
   "name": "python",
   "nbconvert_exporter": "python",
   "pygments_lexer": "ipython3",
   "version": "3.9.6"
  },
  "orig_nbformat": 4,
  "vscode": {
   "interpreter": {
    "hash": "aee8b7b246df8f9039afb4144a1f6fd8d2ca17a180786b69acc140d282b71a49"
   }
  }
 },
 "nbformat": 4,
 "nbformat_minor": 2
}
