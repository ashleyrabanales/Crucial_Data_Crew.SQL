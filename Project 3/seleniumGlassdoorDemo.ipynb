{
 "cells": [
  {
   "cell_type": "code",
   "execution_count": 1,
   "metadata": {},
   "outputs": [],
   "source": [
    "import os\n",
    "import re\n",
    "import time\n",
    "import csv\n",
    "import json\n",
    "import random\n",
    "import requests\n",
    "import pandas as pd\n",
    "import numpy as np\n",
    "\n",
    "from datetime import date, timedelta, datetime\n",
    "\n",
    "import selenium\n",
    "from selenium import webdriver\n",
    "from bs4 import BeautifulSoup"
   ]
  },
  {
   "cell_type": "markdown",
   "metadata": {},
   "source": [
    "### Set up the chrome driver by passing some parameters"
   ]
  },
  {
   "cell_type": "code",
   "execution_count": 36,
   "metadata": {
    "scrolled": true
   },
   "outputs": [],
   "source": [
    "chrome_options = webdriver.ChromeOptions()\n",
    "chrome_options.headless = False\n",
    "browser = webdriver.Chrome(executable_path = '/Users/houping/Dropbox/My Mac (rcbm7256-diii)/Documents/Houping/chromedriver',\n",
    "                          options = chrome_options)"
   ]
  },
  {
   "cell_type": "code",
   "execution_count": 7,
   "metadata": {},
   "outputs": [
    {
     "name": "stderr",
     "output_type": "stream",
     "text": [
      "/Users/houping/opt/anaconda3/lib/python3.7/site-packages/ipykernel_launcher.py:5: DeprecationWarning: use options instead of chrome_options\n",
      "  \"\"\"\n"
     ]
    }
   ],
   "source": [
    "chrome_options = webdriver.ChromeOptions()\n",
    "chrome_options.headless = True\n",
    "browser = webdriver.Chrome(\n",
    "executable_path = '/Users/houping/Dropbox/My Mac (rcbm7256-diii)/Documents/Houping/chromedriver',\n",
    "    chrome_options = chrome_options)\n"
   ]
  },
  {
   "cell_type": "markdown",
   "metadata": {},
   "source": [
    "### test"
   ]
  },
  {
   "cell_type": "code",
   "execution_count": 9,
   "metadata": {},
   "outputs": [],
   "source": [
    "url_head = 'https://www.glassdoor.com/member/home/index.htm'"
   ]
  },
  {
   "cell_type": "code",
   "execution_count": 10,
   "metadata": {},
   "outputs": [],
   "source": [
    "browser.get(url_head)\n",
    "time.sleep(random.uniform(1,5))"
   ]
  },
  {
   "cell_type": "markdown",
   "metadata": {},
   "source": [
    "#### filling in sign_in forms by identifying the username and password cells"
   ]
  },
  {
   "cell_type": "code",
   "execution_count": 38,
   "metadata": {},
   "outputs": [],
   "source": [
    "def sign_in():\n",
    "    url = 'https://www.glassdoor.com/profile/login_input.htm'\n",
    "    browser.get(url)\n",
    "    \n",
    "    with open('credentials.json') as f:\n",
    "        d = json.loads(f.read())\n",
    "        username = d['glassdoor'][0]['username']\n",
    "        password = d['glassdoor'][0]['password']\n",
    "\n",
    "    email_field = browser.find_element_by_name('username')\n",
    "    email_field.send_keys(username)\n",
    "    submit_btn = browser.find_element_by_xpath('//button[@type=\"submit\"]')\n",
    "    submit_btn.click()\n",
    "    time.sleep(2)\n",
    "    \n",
    "    password_field = browser.find_element_by_name('password')\n",
    "    password_field.send_keys(password)\n",
    "    submit_btn = browser.find_element_by_xpath('//button[@type=\"submit\"]')\n",
    "    submit_btn.click()\n",
    "\n",
    "    time.sleep(1)"
   ]
  },
  {
   "cell_type": "code",
   "execution_count": 39,
   "metadata": {
    "scrolled": true
   },
   "outputs": [],
   "source": [
    "sign_in()"
   ]
  },
  {
   "cell_type": "markdown",
   "metadata": {},
   "source": [
    "#### Test on American airlines company website on Glassdoor"
   ]
  },
  {
   "cell_type": "markdown",
   "metadata": {},
   "source": [
    "Example: american airlines"
   ]
  },
  {
   "cell_type": "code",
   "execution_count": 41,
   "metadata": {},
   "outputs": [],
   "source": [
    "# url = 'https://www.glassdoor.com/Overview/Working-at-ADC-Telecommunications-EI_IE1075.11,33.htm'\n",
    "url = 'https://www.glassdoor.com/Overview/Working-at-American-Airlines-EI_IE8.11,28.htm'\n",
    "browser.get(url)\n",
    "time.sleep(1)"
   ]
  },
  {
   "cell_type": "code",
   "execution_count": 42,
   "metadata": {
    "scrolled": true
   },
   "outputs": [],
   "source": [
    "# overview section\n",
    "reviews = browser.find_element_by_id('EIOverviewContainer')\n",
    "overview = reviews.find_elements_by_class_name('align-items-center')"
   ]
  },
  {
   "cell_type": "code",
   "execution_count": 50,
   "metadata": {},
   "outputs": [],
   "source": [
    "def scrape_overview(browser):\n",
    "    # overview section\n",
    "    overview = {}\n",
    "    reviews = browser.find_element_by_id('EIOverviewContainer')\n",
    "    # overview = reviews.find_elements_by_class_name('align-items-center')\n",
    "    \n",
    "    #website\n",
    "    website = reviews.find_element_by_xpath(\".//a[@data-test='employer-website']\").text\n",
    "    overview['website'] = website\n",
    "    # headquarters\n",
    "    headquarters =reviews.find_element_by_xpath(\".//div[@data-test='employer-headquarters']\").text\n",
    "    overview['headquarters'] = headquarters\n",
    "    # size\n",
    "    size =reviews.find_element_by_xpath(\".//div[@data-test='employer-size']\").text\n",
    "    overview['size'] = size\n",
    "    # funded\n",
    "    funded = reviews.find_element_by_xpath(\".//div[@data-test='employer-founded']\").text\n",
    "    overview['funded'] = funded\n",
    "    # type\n",
    "    ctype = reviews.find_element_by_xpath(\".//div[@data-test='employer-type']\").text\n",
    "    overview['ctype'] = ctype\n",
    "    # industry\n",
    "    industry = reviews.find_element_by_xpath(\".//a[@data-test='employer-industry']\").text\n",
    "    overview['industry'] = industry\n",
    "    # revenue\n",
    "    revenue = reviews.find_element_by_xpath(\".//div[@data-test='employer-revenue']\").text\n",
    "    overview['revenue'] = revenue\n",
    "    # description\n",
    "    try:\n",
    "        reviews.find_element_by_xpath(\".//span[@data-test='employerDescription']/button\").click()\n",
    "    except Exception:\n",
    "        pass\n",
    "    description = reviews.find_element_by_xpath(\".//span[@data-test='employerDescription']\").text\n",
    "    overview['description'] = description\n",
    "    # affiliated companies\n",
    "    # employerHierarchies = reviews.find_element_by_xpath(\"//div[@data-test='employerHierarchies']\")\n",
    "    try:\n",
    "        employerHierarchiesUrl = reviews.find_element_by_xpath(\"//div[@data-test='employerHierarchies']/a\").get_attribute('href')\n",
    "        browser.get(employerHierarchiesUrl)\n",
    "        affiliatedCompanies = browser.find_elements_by_xpath(\"//a[@data-test='companyInfositeLink']\")\n",
    "        affiliatedAll = {}\n",
    "        for i in range(len(affiliatedCompanies)):\n",
    "            a = affiliatedCompanies[i]\n",
    "            affiliated = {}\n",
    "            affiliated['url'] = a.get_attribute('href')\n",
    "            affiliated['companyName'] = a.find_element_by_xpath(\".//h3[@data-test='employerName']\").text\n",
    "            affiliated['companyRating'] = a.find_element_by_xpath(\".//p[@data-test='companyRating']\").text\n",
    "            affiliated['companyLocation'] = a.find_element_by_xpath(\".//p[@data-test='companyLocation']\").text\n",
    "            affiliated['reviewsCount'] = a.find_element_by_xpath(\".//p[@data-test='reviewsCount']\").text\n",
    "            affiliated['jobsCount'] = a.find_element_by_xpath(\".//p[@data-test='jobsCount']\").text\n",
    "            affiliated['salariesCount'] = a.find_element_by_xpath(\".//p[@data-test='salariesCount']\").text\n",
    "            \n",
    "            affiliatedAll[i] = affiliated\n",
    "        overview['affiliated'] = affiliatedAll\n",
    "    except Exception:\n",
    "        pass\n",
    "    \n",
    "    \n",
    "    return overview"
   ]
  },
  {
   "cell_type": "code",
   "execution_count": 51,
   "metadata": {
    "scrolled": true
   },
   "outputs": [],
   "source": [
    "overview = scrape_overview(browser)"
   ]
  },
  {
   "cell_type": "code",
   "execution_count": 52,
   "metadata": {},
   "outputs": [
    {
     "data": {
      "text/plain": [
       "{'website': 'jobs.aa.com',\n",
       " 'headquarters': 'Fort Worth, TX',\n",
       " 'size': '10000+ Employees',\n",
       " 'funded': '1926',\n",
       " 'ctype': 'Company - Public (AAL)',\n",
       " 'industry': 'Airlines, Airports & Air Transportation',\n",
       " 'revenue': '$10+ billion (USD)',\n",
       " 'description': 'Embark on an adventure with a commitment to service, excellence and humanity. Our team is what powers our airline. We are proudly dedicated to our purpose of caring for people on life’s journey, including connecting our customers to the people and places they love or providing our team members development and leadership opportunities to acquire new skills and explore their potential.\\n\\nWith more than 1,300 aircraft in our mainline and regional fleets combined and an extensive route network that touches six continents, we’ve got a place for you to start — or continue — your career. Whether you’re stationed at one of our hundreds of airports, working out of our state-of-the-art headquarters in Fort Worth, Texas, or serving customers over the phone from your home office, there are endless opportunities for you to grow and lead at American.',\n",
       " 'affiliated': {0: {'url': 'https://www.glassdoor.com/Overview/Working-at-PSA-Airlines-EI_IE13689.11,23.htm',\n",
       "   'companyName': 'PSA Airlines',\n",
       "   'companyRating': '3.3★',\n",
       "   'companyLocation': 'Vandalia, OH',\n",
       "   'reviewsCount': '',\n",
       "   'jobsCount': '',\n",
       "   'salariesCount': ''},\n",
       "  1: {'url': 'https://www.glassdoor.com/Overview/Working-at-Envoy-Air-EI_IE807917.11,20.htm',\n",
       "   'companyName': 'Envoy Air',\n",
       "   'companyRating': '3.1★',\n",
       "   'companyLocation': 'Irving, TX',\n",
       "   'reviewsCount': '',\n",
       "   'jobsCount': '',\n",
       "   'salariesCount': ''},\n",
       "  2: {'url': 'https://www.glassdoor.com/Overview/Working-at-Piedmont-Airlines-EI_IE14513.11,28.htm',\n",
       "   'companyName': 'Piedmont Airlines',\n",
       "   'companyRating': '3.2★',\n",
       "   'companyLocation': 'Salisbury, MD',\n",
       "   'reviewsCount': '',\n",
       "   'jobsCount': '',\n",
       "   'salariesCount': ''}}}"
      ]
     },
     "execution_count": 52,
     "metadata": {},
     "output_type": "execute_result"
    }
   ],
   "source": [
    "overview"
   ]
  },
  {
   "cell_type": "markdown",
   "metadata": {},
   "source": [
    "### Extract urls for other sections"
   ]
  },
  {
   "cell_type": "code",
   "execution_count": 86,
   "metadata": {},
   "outputs": [],
   "source": [
    "urlElements = browser.find_element_by_xpath(\"//div[@id='SmarterNavContainer']\")"
   ]
  },
  {
   "cell_type": "code",
   "execution_count": 101,
   "metadata": {},
   "outputs": [],
   "source": [
    "overviewUrl = urlElements.find_elements_by_tag_name('a')[0].get_attribute('href')\n",
    "reviewsUrl = urlElements.find_elements_by_tag_name('a')[1].get_attribute('href')\n",
    "jobsUrl = urlElements.find_elements_by_tag_name('a')[2].get_attribute('href')\n",
    "salariesUrl = urlElements.find_elements_by_tag_name('a')[3].get_attribute('href')\n",
    "interviewsUrl = urlElements.find_elements_by_tag_name('a')[4].get_attribute('href')\n",
    "benefitsUrl = urlElements.find_elements_by_tag_name('a')[5].get_attribute('href')\n",
    "photosUrl = urlElements.find_elements_by_tag_name('a')[6].get_attribute('href')\n",
    "faqUrl = urlElements.find_elements_by_tag_name('a')[7].get_attribute('href')\n",
    "locationUrl = urlElements.find_elements_by_tag_name('a')[8].get_attribute('href')"
   ]
  },
  {
   "cell_type": "code",
   "execution_count": null,
   "metadata": {},
   "outputs": [],
   "source": []
  }
 ],
 "metadata": {
  "kernelspec": {
   "display_name": "Python 3",
   "language": "python",
   "name": "python3"
  },
  "language_info": {
   "codemirror_mode": {
    "name": "ipython",
    "version": 3
   },
   "file_extension": ".py",
   "mimetype": "text/x-python",
   "name": "python",
   "nbconvert_exporter": "python",
   "pygments_lexer": "ipython3",
   "version": "3.7.6"
  }
 },
 "nbformat": 4,
 "nbformat_minor": 4
}
